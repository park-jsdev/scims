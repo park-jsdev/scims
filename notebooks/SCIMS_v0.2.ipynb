{
  "cells": [
    {
      "cell_type": "code",
      "execution_count": 57,
      "metadata": {
        "id": "SLTEzr8Z9C9T"
      },
      "outputs": [],
      "source": [
        "import pandas as pd\n",
        "import numpy as np\n"
      ]
    },
    {
      "cell_type": "code",
      "execution_count": 58,
      "metadata": {
        "colab": {
          "base_uri": "https://localhost:8080/"
        },
        "id": "NlcthfoSIZ2B",
        "outputId": "a21a09d4-ff03-45ee-b357-9cecbc0f891e"
      },
      "outputs": [
        {
          "output_type": "stream",
          "name": "stdout",
          "text": [
            "   UniID  AInjDt  AAdmDt  ARbAdmDt  ADisDt AInjAge  ARbAdDtM  ASDDAc2R  \\\n",
            "0      1    1982    1982    1982.0    1982  15-29y         1       888   \n",
            "1      2    1982    1982    1982.0    1982  15-29y         1       888   \n",
            "2      3    1982    1982    1982.0    1982  15-29y         1       888   \n",
            "3      4    1982    1982    1982.0    1983  15-29y         1       888   \n",
            "4      5    1982    1982    1982.0    1982  15-29y         1       888   \n",
            "\n",
            "   ASDDDurR  AI2ADays  ...  AFTltgDs  AFBdMgDs  AFBwMgDs  AFMBCWDs  AFMTltDs  \\\n",
            "0         0        51  ...         9         9         9         9         9   \n",
            "1         0        24  ...         9         9         9         9         9   \n",
            "2         2        13  ...         9         9         9         9         9   \n",
            "3         0        26  ...         9         9         9         9         9   \n",
            "4         0        32  ...         9         9         9         9         9   \n",
            "\n",
            "   AFMTShDs  AFLWWcDs  AFLModDs AFLStrDs  AFScorDs  \n",
            "0         9         9         9        9      99.0  \n",
            "1         9         9         9        9      99.0  \n",
            "2         9         9         9        9      99.0  \n",
            "3         9         9         9        9      99.0  \n",
            "4         9         9         9        9      99.0  \n",
            "\n",
            "[5 rows x 417 columns]\n"
          ]
        },
        {
          "output_type": "stream",
          "name": "stderr",
          "text": [
            "<ipython-input-58-64e4ffc99551>:1: DtypeWarning: Columns (18) have mixed types. Specify dtype option on import or set low_memory=False.\n",
            "  data = pd.read_csv('f1_public.csv')\n"
          ]
        }
      ],
      "source": [
        "data = pd.read_csv('f1_public.csv')\n",
        "print(data.head())"
      ]
    },
    {
      "cell_type": "code",
      "execution_count": 59,
      "metadata": {
        "id": "H2D8iYKcIZ2C"
      },
      "outputs": [],
      "source": [
        "def recategorizing_ASIA_Scale(row):\n",
        "    # Convert Frankel Scale to ASIA Scale\n",
        "    if row['AASAImDs'] == '5':\n",
        "        return 'A'\n",
        "    elif row['AASAImDs'] == '4':\n",
        "        return 'E'\n",
        "    elif row['AASAImDs'] == '3':\n",
        "        return 'D'\n",
        "    elif row['AASAImDs'] == '2':\n",
        "        return 'C'\n",
        "    elif row['AASAImDs'] == '1':\n",
        "        return 'B'\n",
        "    elif row['AASAImDs'] == '9':\n",
        "        return 'U'\n",
        "    else:\n",
        "        return row['AASAImDs']\n",
        "\n",
        "data['AASAImDs'] = data.apply(recategorizing_ASIA_Scale, axis=1)\n"
      ]
    },
    {
      "cell_type": "code",
      "execution_count": 60,
      "metadata": {
        "id": "WzDYXCz6IZ2D",
        "colab": {
          "base_uri": "https://localhost:8080/"
        },
        "outputId": "428ee6e0-d05e-4792-b272-92dd10715a0b"
      },
      "outputs": [
        {
          "output_type": "execute_result",
          "data": {
            "text/plain": [
              "AASAImDs\n",
              "A    13891\n",
              "D     9375\n",
              "C     3909\n",
              "B     3448\n",
              "U     1352\n",
              "E      184\n",
              "Name: count, dtype: int64"
            ]
          },
          "metadata": {},
          "execution_count": 60
        }
      ],
      "source": [
        "data['AASAImDs'].value_counts()"
      ]
    },
    {
      "cell_type": "code",
      "execution_count": 61,
      "metadata": {
        "id": "1ETrna5CIZ2E",
        "colab": {
          "base_uri": "https://localhost:8080/"
        },
        "outputId": "ec835a6e-cc3f-44d4-cf1c-fa19af91e0c4"
      },
      "outputs": [
        {
          "output_type": "execute_result",
          "data": {
            "text/plain": [
              "UniID       32159\n",
              "AInjDt      32159\n",
              "AAdmDt      32159\n",
              "ARbAdmDt    31371\n",
              "ADisDt      32159\n",
              "            ...  \n",
              "AFMTShDs    32159\n",
              "AFLWWcDs    32159\n",
              "AFLModDs    32159\n",
              "AFLStrDs    32159\n",
              "AFScorDs    32158\n",
              "Length: 417, dtype: int64"
            ]
          },
          "metadata": {},
          "execution_count": 61
        }
      ],
      "source": [
        "data.count()"
      ]
    },
    {
      "cell_type": "code",
      "execution_count": 62,
      "metadata": {
        "id": "Y9dn8a0UDx22"
      },
      "outputs": [],
      "source": [
        "# New Feature Creation - Neurologic Level of Injury (NLI_cat)\n",
        "\n",
        "def categorize_nli(row):\n",
        "    # Ensure 'ANurLvlD' is treated as a string, safely handling NaN values\n",
        "    anlvl = str(row['ANurLvlD'])\n",
        "    # Check the ASIA impairment scale\n",
        "    if row['AASAImDs'] in ['A', 'B', 'C']:\n",
        "        # Check the neurological level of injury for cervical\n",
        "        if any(anlvl.startswith(x) for x in ('C01', 'C02', 'C03', 'C04', 'C05', 'C06', 'C07', 'C08', 'C99')):\n",
        "            return 'C'\n",
        "        # Check for thoracic level\n",
        "        elif any(anlvl.startswith(x) for x in ('T01', 'T02', 'T03', 'T04', 'T05', 'T06', 'T07', 'T08', 'T09', 'T10', 'T11', 'T12', 'T99')):\n",
        "            return 'T'\n",
        "        # Check for lumbar level\n",
        "        elif any(anlvl.startswith(x) for x in ('L01', 'L02', 'L03', 'L04', 'L05', 'L99')):\n",
        "            return 'L'\n",
        "        # Check for sacral level\n",
        "        elif any(anlvl.startswith(x) for x in ('S01', 'S02', 'S03', 'S99')):\n",
        "            return 'S'\n",
        "    # Check if ASIA impairment scale is 'D'\n",
        "    elif row['AASAImDs'] == 'D':\n",
        "        return 'D'\n",
        "    # Return NaN for 'E' or 'U' or any other conditions\n",
        "    return np.nan\n",
        "\n",
        "# Applying the function to create the 'NLI_cat' column\n",
        "data['NLI_cat'] = data.apply(categorize_nli, axis=1)\n",
        "\n",
        "# Remove rows with undefined NLI_cat (NaNs)\n",
        "data.dropna(subset=['NLI_cat'], inplace=True)\n"
      ]
    },
    {
      "cell_type": "code",
      "execution_count": 63,
      "metadata": {
        "id": "8Ts2-VYwIZ2F",
        "colab": {
          "base_uri": "https://localhost:8080/",
          "height": 273
        },
        "outputId": "2bb42070-a542-45c2-ff3c-4b1f9f5d2cde"
      },
      "outputs": [
        {
          "output_type": "execute_result",
          "data": {
            "text/plain": [
              "   UniID  AInjDt  AAdmDt  ARbAdmDt  ADisDt AInjAge  ARbAdDtM  ASDDAc2R  \\\n",
              "0      1    1982    1982    1982.0    1982  15-29y         1       888   \n",
              "1      2    1982    1982    1982.0    1982  15-29y         1       888   \n",
              "2      3    1982    1982    1982.0    1982  15-29y         1       888   \n",
              "3      4    1982    1982    1982.0    1983  15-29y         1       888   \n",
              "4      5    1982    1982    1982.0    1982  15-29y         1       888   \n",
              "\n",
              "   ASDDDurR  AI2ADays  ...  AFBdMgDs  AFBwMgDs  AFMBCWDs  AFMTltDs  AFMTShDs  \\\n",
              "0         0        51  ...         9         9         9         9         9   \n",
              "1         0        24  ...         9         9         9         9         9   \n",
              "2         2        13  ...         9         9         9         9         9   \n",
              "3         0        26  ...         9         9         9         9         9   \n",
              "4         0        32  ...         9         9         9         9         9   \n",
              "\n",
              "   AFLWWcDs  AFLModDs  AFLStrDs AFScorDs  NLI_cat  \n",
              "0         9         9         9     99.0        C  \n",
              "1         9         9         9     99.0        T  \n",
              "2         9         9         9     99.0        D  \n",
              "3         9         9         9     99.0        C  \n",
              "4         9         9         9     99.0        C  \n",
              "\n",
              "[5 rows x 418 columns]"
            ],
            "text/html": [
              "\n",
              "  <div id=\"df-857254cd-efab-4ff8-afac-e26f073e7894\" class=\"colab-df-container\">\n",
              "    <div>\n",
              "<style scoped>\n",
              "    .dataframe tbody tr th:only-of-type {\n",
              "        vertical-align: middle;\n",
              "    }\n",
              "\n",
              "    .dataframe tbody tr th {\n",
              "        vertical-align: top;\n",
              "    }\n",
              "\n",
              "    .dataframe thead th {\n",
              "        text-align: right;\n",
              "    }\n",
              "</style>\n",
              "<table border=\"1\" class=\"dataframe\">\n",
              "  <thead>\n",
              "    <tr style=\"text-align: right;\">\n",
              "      <th></th>\n",
              "      <th>UniID</th>\n",
              "      <th>AInjDt</th>\n",
              "      <th>AAdmDt</th>\n",
              "      <th>ARbAdmDt</th>\n",
              "      <th>ADisDt</th>\n",
              "      <th>AInjAge</th>\n",
              "      <th>ARbAdDtM</th>\n",
              "      <th>ASDDAc2R</th>\n",
              "      <th>ASDDDurR</th>\n",
              "      <th>AI2ADays</th>\n",
              "      <th>...</th>\n",
              "      <th>AFBdMgDs</th>\n",
              "      <th>AFBwMgDs</th>\n",
              "      <th>AFMBCWDs</th>\n",
              "      <th>AFMTltDs</th>\n",
              "      <th>AFMTShDs</th>\n",
              "      <th>AFLWWcDs</th>\n",
              "      <th>AFLModDs</th>\n",
              "      <th>AFLStrDs</th>\n",
              "      <th>AFScorDs</th>\n",
              "      <th>NLI_cat</th>\n",
              "    </tr>\n",
              "  </thead>\n",
              "  <tbody>\n",
              "    <tr>\n",
              "      <th>0</th>\n",
              "      <td>1</td>\n",
              "      <td>1982</td>\n",
              "      <td>1982</td>\n",
              "      <td>1982.0</td>\n",
              "      <td>1982</td>\n",
              "      <td>15-29y</td>\n",
              "      <td>1</td>\n",
              "      <td>888</td>\n",
              "      <td>0</td>\n",
              "      <td>51</td>\n",
              "      <td>...</td>\n",
              "      <td>9</td>\n",
              "      <td>9</td>\n",
              "      <td>9</td>\n",
              "      <td>9</td>\n",
              "      <td>9</td>\n",
              "      <td>9</td>\n",
              "      <td>9</td>\n",
              "      <td>9</td>\n",
              "      <td>99.0</td>\n",
              "      <td>C</td>\n",
              "    </tr>\n",
              "    <tr>\n",
              "      <th>1</th>\n",
              "      <td>2</td>\n",
              "      <td>1982</td>\n",
              "      <td>1982</td>\n",
              "      <td>1982.0</td>\n",
              "      <td>1982</td>\n",
              "      <td>15-29y</td>\n",
              "      <td>1</td>\n",
              "      <td>888</td>\n",
              "      <td>0</td>\n",
              "      <td>24</td>\n",
              "      <td>...</td>\n",
              "      <td>9</td>\n",
              "      <td>9</td>\n",
              "      <td>9</td>\n",
              "      <td>9</td>\n",
              "      <td>9</td>\n",
              "      <td>9</td>\n",
              "      <td>9</td>\n",
              "      <td>9</td>\n",
              "      <td>99.0</td>\n",
              "      <td>T</td>\n",
              "    </tr>\n",
              "    <tr>\n",
              "      <th>2</th>\n",
              "      <td>3</td>\n",
              "      <td>1982</td>\n",
              "      <td>1982</td>\n",
              "      <td>1982.0</td>\n",
              "      <td>1982</td>\n",
              "      <td>15-29y</td>\n",
              "      <td>1</td>\n",
              "      <td>888</td>\n",
              "      <td>2</td>\n",
              "      <td>13</td>\n",
              "      <td>...</td>\n",
              "      <td>9</td>\n",
              "      <td>9</td>\n",
              "      <td>9</td>\n",
              "      <td>9</td>\n",
              "      <td>9</td>\n",
              "      <td>9</td>\n",
              "      <td>9</td>\n",
              "      <td>9</td>\n",
              "      <td>99.0</td>\n",
              "      <td>D</td>\n",
              "    </tr>\n",
              "    <tr>\n",
              "      <th>3</th>\n",
              "      <td>4</td>\n",
              "      <td>1982</td>\n",
              "      <td>1982</td>\n",
              "      <td>1982.0</td>\n",
              "      <td>1983</td>\n",
              "      <td>15-29y</td>\n",
              "      <td>1</td>\n",
              "      <td>888</td>\n",
              "      <td>0</td>\n",
              "      <td>26</td>\n",
              "      <td>...</td>\n",
              "      <td>9</td>\n",
              "      <td>9</td>\n",
              "      <td>9</td>\n",
              "      <td>9</td>\n",
              "      <td>9</td>\n",
              "      <td>9</td>\n",
              "      <td>9</td>\n",
              "      <td>9</td>\n",
              "      <td>99.0</td>\n",
              "      <td>C</td>\n",
              "    </tr>\n",
              "    <tr>\n",
              "      <th>4</th>\n",
              "      <td>5</td>\n",
              "      <td>1982</td>\n",
              "      <td>1982</td>\n",
              "      <td>1982.0</td>\n",
              "      <td>1982</td>\n",
              "      <td>15-29y</td>\n",
              "      <td>1</td>\n",
              "      <td>888</td>\n",
              "      <td>0</td>\n",
              "      <td>32</td>\n",
              "      <td>...</td>\n",
              "      <td>9</td>\n",
              "      <td>9</td>\n",
              "      <td>9</td>\n",
              "      <td>9</td>\n",
              "      <td>9</td>\n",
              "      <td>9</td>\n",
              "      <td>9</td>\n",
              "      <td>9</td>\n",
              "      <td>99.0</td>\n",
              "      <td>C</td>\n",
              "    </tr>\n",
              "  </tbody>\n",
              "</table>\n",
              "<p>5 rows × 418 columns</p>\n",
              "</div>\n",
              "    <div class=\"colab-df-buttons\">\n",
              "\n",
              "  <div class=\"colab-df-container\">\n",
              "    <button class=\"colab-df-convert\" onclick=\"convertToInteractive('df-857254cd-efab-4ff8-afac-e26f073e7894')\"\n",
              "            title=\"Convert this dataframe to an interactive table.\"\n",
              "            style=\"display:none;\">\n",
              "\n",
              "  <svg xmlns=\"http://www.w3.org/2000/svg\" height=\"24px\" viewBox=\"0 -960 960 960\">\n",
              "    <path d=\"M120-120v-720h720v720H120Zm60-500h600v-160H180v160Zm220 220h160v-160H400v160Zm0 220h160v-160H400v160ZM180-400h160v-160H180v160Zm440 0h160v-160H620v160ZM180-180h160v-160H180v160Zm440 0h160v-160H620v160Z\"/>\n",
              "  </svg>\n",
              "    </button>\n",
              "\n",
              "  <style>\n",
              "    .colab-df-container {\n",
              "      display:flex;\n",
              "      gap: 12px;\n",
              "    }\n",
              "\n",
              "    .colab-df-convert {\n",
              "      background-color: #E8F0FE;\n",
              "      border: none;\n",
              "      border-radius: 50%;\n",
              "      cursor: pointer;\n",
              "      display: none;\n",
              "      fill: #1967D2;\n",
              "      height: 32px;\n",
              "      padding: 0 0 0 0;\n",
              "      width: 32px;\n",
              "    }\n",
              "\n",
              "    .colab-df-convert:hover {\n",
              "      background-color: #E2EBFA;\n",
              "      box-shadow: 0px 1px 2px rgba(60, 64, 67, 0.3), 0px 1px 3px 1px rgba(60, 64, 67, 0.15);\n",
              "      fill: #174EA6;\n",
              "    }\n",
              "\n",
              "    .colab-df-buttons div {\n",
              "      margin-bottom: 4px;\n",
              "    }\n",
              "\n",
              "    [theme=dark] .colab-df-convert {\n",
              "      background-color: #3B4455;\n",
              "      fill: #D2E3FC;\n",
              "    }\n",
              "\n",
              "    [theme=dark] .colab-df-convert:hover {\n",
              "      background-color: #434B5C;\n",
              "      box-shadow: 0px 1px 3px 1px rgba(0, 0, 0, 0.15);\n",
              "      filter: drop-shadow(0px 1px 2px rgba(0, 0, 0, 0.3));\n",
              "      fill: #FFFFFF;\n",
              "    }\n",
              "  </style>\n",
              "\n",
              "    <script>\n",
              "      const buttonEl =\n",
              "        document.querySelector('#df-857254cd-efab-4ff8-afac-e26f073e7894 button.colab-df-convert');\n",
              "      buttonEl.style.display =\n",
              "        google.colab.kernel.accessAllowed ? 'block' : 'none';\n",
              "\n",
              "      async function convertToInteractive(key) {\n",
              "        const element = document.querySelector('#df-857254cd-efab-4ff8-afac-e26f073e7894');\n",
              "        const dataTable =\n",
              "          await google.colab.kernel.invokeFunction('convertToInteractive',\n",
              "                                                    [key], {});\n",
              "        if (!dataTable) return;\n",
              "\n",
              "        const docLinkHtml = 'Like what you see? Visit the ' +\n",
              "          '<a target=\"_blank\" href=https://colab.research.google.com/notebooks/data_table.ipynb>data table notebook</a>'\n",
              "          + ' to learn more about interactive tables.';\n",
              "        element.innerHTML = '';\n",
              "        dataTable['output_type'] = 'display_data';\n",
              "        await google.colab.output.renderOutput(dataTable, element);\n",
              "        const docLink = document.createElement('div');\n",
              "        docLink.innerHTML = docLinkHtml;\n",
              "        element.appendChild(docLink);\n",
              "      }\n",
              "    </script>\n",
              "  </div>\n",
              "\n",
              "\n",
              "<div id=\"df-ee56e250-a022-4d6c-b06b-744ba3bf57a1\">\n",
              "  <button class=\"colab-df-quickchart\" onclick=\"quickchart('df-ee56e250-a022-4d6c-b06b-744ba3bf57a1')\"\n",
              "            title=\"Suggest charts\"\n",
              "            style=\"display:none;\">\n",
              "\n",
              "<svg xmlns=\"http://www.w3.org/2000/svg\" height=\"24px\"viewBox=\"0 0 24 24\"\n",
              "     width=\"24px\">\n",
              "    <g>\n",
              "        <path d=\"M19 3H5c-1.1 0-2 .9-2 2v14c0 1.1.9 2 2 2h14c1.1 0 2-.9 2-2V5c0-1.1-.9-2-2-2zM9 17H7v-7h2v7zm4 0h-2V7h2v10zm4 0h-2v-4h2v4z\"/>\n",
              "    </g>\n",
              "</svg>\n",
              "  </button>\n",
              "\n",
              "<style>\n",
              "  .colab-df-quickchart {\n",
              "      --bg-color: #E8F0FE;\n",
              "      --fill-color: #1967D2;\n",
              "      --hover-bg-color: #E2EBFA;\n",
              "      --hover-fill-color: #174EA6;\n",
              "      --disabled-fill-color: #AAA;\n",
              "      --disabled-bg-color: #DDD;\n",
              "  }\n",
              "\n",
              "  [theme=dark] .colab-df-quickchart {\n",
              "      --bg-color: #3B4455;\n",
              "      --fill-color: #D2E3FC;\n",
              "      --hover-bg-color: #434B5C;\n",
              "      --hover-fill-color: #FFFFFF;\n",
              "      --disabled-bg-color: #3B4455;\n",
              "      --disabled-fill-color: #666;\n",
              "  }\n",
              "\n",
              "  .colab-df-quickchart {\n",
              "    background-color: var(--bg-color);\n",
              "    border: none;\n",
              "    border-radius: 50%;\n",
              "    cursor: pointer;\n",
              "    display: none;\n",
              "    fill: var(--fill-color);\n",
              "    height: 32px;\n",
              "    padding: 0;\n",
              "    width: 32px;\n",
              "  }\n",
              "\n",
              "  .colab-df-quickchart:hover {\n",
              "    background-color: var(--hover-bg-color);\n",
              "    box-shadow: 0 1px 2px rgba(60, 64, 67, 0.3), 0 1px 3px 1px rgba(60, 64, 67, 0.15);\n",
              "    fill: var(--button-hover-fill-color);\n",
              "  }\n",
              "\n",
              "  .colab-df-quickchart-complete:disabled,\n",
              "  .colab-df-quickchart-complete:disabled:hover {\n",
              "    background-color: var(--disabled-bg-color);\n",
              "    fill: var(--disabled-fill-color);\n",
              "    box-shadow: none;\n",
              "  }\n",
              "\n",
              "  .colab-df-spinner {\n",
              "    border: 2px solid var(--fill-color);\n",
              "    border-color: transparent;\n",
              "    border-bottom-color: var(--fill-color);\n",
              "    animation:\n",
              "      spin 1s steps(1) infinite;\n",
              "  }\n",
              "\n",
              "  @keyframes spin {\n",
              "    0% {\n",
              "      border-color: transparent;\n",
              "      border-bottom-color: var(--fill-color);\n",
              "      border-left-color: var(--fill-color);\n",
              "    }\n",
              "    20% {\n",
              "      border-color: transparent;\n",
              "      border-left-color: var(--fill-color);\n",
              "      border-top-color: var(--fill-color);\n",
              "    }\n",
              "    30% {\n",
              "      border-color: transparent;\n",
              "      border-left-color: var(--fill-color);\n",
              "      border-top-color: var(--fill-color);\n",
              "      border-right-color: var(--fill-color);\n",
              "    }\n",
              "    40% {\n",
              "      border-color: transparent;\n",
              "      border-right-color: var(--fill-color);\n",
              "      border-top-color: var(--fill-color);\n",
              "    }\n",
              "    60% {\n",
              "      border-color: transparent;\n",
              "      border-right-color: var(--fill-color);\n",
              "    }\n",
              "    80% {\n",
              "      border-color: transparent;\n",
              "      border-right-color: var(--fill-color);\n",
              "      border-bottom-color: var(--fill-color);\n",
              "    }\n",
              "    90% {\n",
              "      border-color: transparent;\n",
              "      border-bottom-color: var(--fill-color);\n",
              "    }\n",
              "  }\n",
              "</style>\n",
              "\n",
              "  <script>\n",
              "    async function quickchart(key) {\n",
              "      const quickchartButtonEl =\n",
              "        document.querySelector('#' + key + ' button');\n",
              "      quickchartButtonEl.disabled = true;  // To prevent multiple clicks.\n",
              "      quickchartButtonEl.classList.add('colab-df-spinner');\n",
              "      try {\n",
              "        const charts = await google.colab.kernel.invokeFunction(\n",
              "            'suggestCharts', [key], {});\n",
              "      } catch (error) {\n",
              "        console.error('Error during call to suggestCharts:', error);\n",
              "      }\n",
              "      quickchartButtonEl.classList.remove('colab-df-spinner');\n",
              "      quickchartButtonEl.classList.add('colab-df-quickchart-complete');\n",
              "    }\n",
              "    (() => {\n",
              "      let quickchartButtonEl =\n",
              "        document.querySelector('#df-ee56e250-a022-4d6c-b06b-744ba3bf57a1 button');\n",
              "      quickchartButtonEl.style.display =\n",
              "        google.colab.kernel.accessAllowed ? 'block' : 'none';\n",
              "    })();\n",
              "  </script>\n",
              "</div>\n",
              "\n",
              "    </div>\n",
              "  </div>\n"
            ],
            "application/vnd.google.colaboratory.intrinsic+json": {
              "type": "dataframe",
              "variable_name": "data"
            }
          },
          "metadata": {},
          "execution_count": 63
        }
      ],
      "source": [
        "data.head()"
      ]
    },
    {
      "cell_type": "code",
      "execution_count": 64,
      "metadata": {
        "id": "jnsU07tKJ-Qz",
        "colab": {
          "base_uri": "https://localhost:8080/"
        },
        "outputId": "c4dee30a-ba76-42df-9d19-b938244dd4dc"
      },
      "outputs": [
        {
          "output_type": "stream",
          "name": "stdout",
          "text": [
            "  ANurLvlD NLI_cat AASAImDs\n",
            "0      C04       C        A\n",
            "1      T10       T        A\n",
            "2      X99       D        D\n",
            "3      C05       C        A\n",
            "4      C06       C        A\n"
          ]
        }
      ],
      "source": [
        "# Preview the first 5 rows of the updated DataFrame\n",
        "# NLI_cat exists\n",
        "print(data[['ANurLvlD','NLI_cat', 'AASAImDs']].head())"
      ]
    },
    {
      "cell_type": "code",
      "execution_count": 65,
      "metadata": {
        "id": "NoYm79sRKHCk",
        "colab": {
          "base_uri": "https://localhost:8080/"
        },
        "outputId": "ca47d1d7-9fb6-43ef-ca81-e394d1c07111"
      },
      "outputs": [
        {
          "output_type": "stream",
          "name": "stdout",
          "text": [
            "30227\n"
          ]
        }
      ],
      "source": [
        "#data.to_csv('updated_data.csv', index=False)\n",
        "print(data['ATrmEtio'].count())"
      ]
    },
    {
      "cell_type": "code",
      "execution_count": 66,
      "metadata": {
        "id": "JSsyzS_XFTfP"
      },
      "outputs": [],
      "source": [
        "# Create Etiology Category Variable\n",
        "def categorize_etiology(etio):\n",
        "    if etio in [20, 21, 22, 23, 24, 25, 26, 27, 28, 29, 70, 71, 72, 73, 74, 75, 76, 77, 78]:\n",
        "        return 'SportEtiol'\n",
        "    elif etio in [1, 2, 3, 4, 5, 6, 7, 8, 9]:\n",
        "        return 'VehicleEtiol'\n",
        "    elif etio in [10, 11, 12, 15, 30, 31, 40, 50, 60, 99]:\n",
        "        return 'OtherEtiol'\n",
        "    else:\n",
        "        return np.nan\n",
        "\n",
        "data['Etiology_cat'] = data['ATrmEtio'].apply(categorize_etiology)\n"
      ]
    },
    {
      "cell_type": "code",
      "execution_count": 67,
      "metadata": {
        "id": "aAWHUsf5IZ2H"
      },
      "outputs": [],
      "source": [
        "def categorize_core_injury_severity(row):\n",
        "    anlvl = str(row['ANurLvlD'])\n",
        "\n",
        "    # Check if they needed any type of mechanical ventilator post discharge\n",
        "    if row['AUMVDis'] in ['1', '2', '3', '4', '5']:\n",
        "        return 'CoreVent'\n",
        "    # Check the ASIA impairment scale\n",
        "    # What do we do with 'C99 or L99, or T99'?\n",
        "    elif row['AASAImDs'] in ['A', 'B', 'C']:\n",
        "        # Check the neurological level of injury for cervical\n",
        "        if any(anlvl.startswith(x) for x in ('C01', 'C02', 'C03', 'C04')):\n",
        "            return 'CoreHighC'\n",
        "        # Check the neurological level of injury for cervical\n",
        "        if any(anlvl.startswith(x) for x in ('C05', 'C06', 'C07', 'C08')):\n",
        "            return 'CoreLowC'\n",
        "        # Check for thoracic level\n",
        "        elif any(anlvl.startswith(x) for x in ('T01', 'T02', 'T03', 'T04', 'T05', 'T06', 'T07', 'T08', 'T09', 'T10', 'T11', 'T12', 'L01', 'L02', 'L03', 'L04', 'L05', 'S01', 'S02', 'S03', 'S99')):\n",
        "            return 'CorePara'\n",
        "    # Check if ASIA impairment scale is 'D'\n",
        "    elif row['AASAImDs'] == 'D':\n",
        "        return 'CoreD'\n",
        "\n",
        "data['CoreInjurySeverity'] = data.apply(categorize_nli, axis=1)\n"
      ]
    },
    {
      "cell_type": "code",
      "execution_count": 68,
      "metadata": {
        "id": "49h7wDwGIZ2H",
        "colab": {
          "base_uri": "https://localhost:8080/"
        },
        "outputId": "90c6958c-8af2-43bc-86df-5720c8ed8adb"
      },
      "outputs": [
        {
          "output_type": "execute_result",
          "data": {
            "text/plain": [
              "ARbAdmDt    29720\n",
              "AInCatch     7012\n",
              "AExtCsIj    30226\n",
              "AVertInj     7027\n",
              "AAsscInj     7024\n",
              "            ...  \n",
              "ANurLvlR    30176\n",
              "AAnSnRhb     9600\n",
              "AVoSphRb     9600\n",
              "AASAImRb    30176\n",
              "ANCatRhb    30176\n",
              "Length: 79, dtype: int64"
            ]
          },
          "metadata": {},
          "execution_count": 68
        }
      ],
      "source": [
        "# IDENTIFY VARIABLES THAT MAY HAVE MISSING VALUES\n",
        "total_counts = pd.Series(data.count())\n",
        "total_counts[total_counts != 30227]"
      ]
    },
    {
      "cell_type": "code",
      "source": [
        "# Check Ventilator dependent\n",
        "\n",
        "# Check the counts for AUMVAdm\n",
        "aume_adm_counts = filtered_data['AUMVAdm'].value_counts()\n",
        "print(\"Counts for AUMVAdm:\")\n",
        "print(aume_adm_counts)\n",
        "\n",
        "# Check the counts for AUMVDis\n",
        "aume_dis_counts = filtered_data['AUMVDis'].value_counts()\n",
        "print(\"Counts for AUMVDis:\")\n",
        "print(aume_dis_counts)\n"
      ],
      "metadata": {
        "colab": {
          "base_uri": "https://localhost:8080/"
        },
        "id": "bHPWVGVtxUgu",
        "outputId": "683ce357-e86c-4205-f0da-045e7c993d30"
      },
      "execution_count": 69,
      "outputs": [
        {
          "output_type": "stream",
          "name": "stdout",
          "text": [
            "Counts for AUMVAdm:\n",
            "AUMVAdm\n",
            "0.0    5724\n",
            "1.0     442\n",
            "2.0     379\n",
            "9.0      59\n",
            "3.0       2\n",
            "Name: count, dtype: int64\n",
            "Counts for AUMVDis:\n",
            "AUMVDis\n",
            "0    6369\n",
            "2     124\n",
            "1      78\n",
            "9      30\n",
            "3       5\n",
            "Name: count, dtype: int64\n"
          ]
        }
      ]
    },
    {
      "cell_type": "code",
      "source": [
        "# Define the function to categorize CoreInjurySeverity\n",
        "def categorize_core_injury_severity(row):\n",
        "    anlvl = str(row['ANurLvlD'])\n",
        "    ais = row['AASAImDs']\n",
        "\n",
        "    # CoreVent: Ventilator dependent at any NLI or with any AIS grade, at admission or discharge\n",
        "    if row['AUMVAdm'] in [1, 2, 3, 4, 5] or row['AUMVDis'] in [1, 2, 3, 4, 5]:\n",
        "        return 'CoreVent'\n",
        "\n",
        "    # CoreHighC: C1–4 AIS A, B, and C\n",
        "    if ais in ['A', 'B', 'C'] and any(anlvl.startswith(x) for x in ['C01', 'C02', 'C03', 'C04']):\n",
        "        return 'CoreHighC'\n",
        "\n",
        "    # CoreLowC: C5–8 AIS A, B, and C\n",
        "    if ais in ['A', 'B', 'C'] and any(anlvl.startswith(x) for x in ['C05', 'C06', 'C07', 'C08']):\n",
        "        return 'CoreLowC'\n",
        "\n",
        "    # CorePara: T1–S3 AIS A, B, and C\n",
        "    if ais in ['A', 'B', 'C'] and any(anlvl.startswith(x) for x in ['T01', 'T02', 'T03', 'T04', 'T05', 'T06', 'T07', 'T08', 'T09', 'T10', 'T11', 'T12', 'L01', 'L02', 'L03', 'L04', 'L05', 'S01', 'S02', 'S03']):\n",
        "        return 'CorePara'\n",
        "\n",
        "    # CoreD: AIS D at any NLI\n",
        "    if ais == 'D':\n",
        "        return 'CoreD'\n",
        "\n",
        "    return np.nan\n",
        "\n",
        "# Apply the function to create the 'CoreInjurySeverity' column\n",
        "data['CoreInjurySeverity'] = data.apply(categorize_core_injury_severity, axis=1)\n",
        "\n",
        "# Check the distribution of the new variable\n",
        "print(data['CoreInjurySeverity'].value_counts())\n"
      ],
      "metadata": {
        "id": "GzSdnVdMfFpJ",
        "colab": {
          "base_uri": "https://localhost:8080/"
        },
        "outputId": "98c53e88-218e-47e9-d20a-b1c1080dacdb"
      },
      "execution_count": 70,
      "outputs": [
        {
          "output_type": "stream",
          "name": "stdout",
          "text": [
            "CoreInjurySeverity\n",
            "CorePara     9843\n",
            "CoreD        8869\n",
            "CoreLowC     4898\n",
            "CoreVent     4327\n",
            "CoreHighC    2250\n",
            "Name: count, dtype: int64\n"
          ]
        }
      ]
    },
    {
      "cell_type": "markdown",
      "metadata": {
        "id": "q_U3_O8GIZ2H"
      },
      "source": [
        "## DATA EXPLORATION"
      ]
    },
    {
      "cell_type": "code",
      "execution_count": 71,
      "metadata": {
        "id": "ifpP5zKDIZ2J",
        "colab": {
          "base_uri": "https://localhost:8080/"
        },
        "outputId": "e393ce37-513b-417d-fb4e-0019d22033fa"
      },
      "outputs": [
        {
          "output_type": "execute_result",
          "data": {
            "text/plain": [
              "ASex\n",
              "1    24426\n",
              "2     5799\n",
              "3        2\n",
              "dtype: int64"
            ]
          },
          "metadata": {},
          "execution_count": 71
        }
      ],
      "source": [
        "# Get Gender Breakdown\n",
        "data.groupby(['ASex']).size()"
      ]
    },
    {
      "cell_type": "code",
      "execution_count": 72,
      "metadata": {
        "id": "q81sx20YIZ2J",
        "colab": {
          "base_uri": "https://localhost:8080/"
        },
        "outputId": "c2f63de7-ede5-4af2-c241-fce944efdd2f"
      },
      "outputs": [
        {
          "output_type": "execute_result",
          "data": {
            "text/plain": [
              "AInjAge\n",
              "0-14y       523\n",
              "15-29y    14531\n",
              "30-44y     7236\n",
              "45-59y     4708\n",
              "60-74y     2508\n",
              "75+y        721\n",
              "dtype: int64"
            ]
          },
          "metadata": {},
          "execution_count": 72
        }
      ],
      "source": [
        "# Get Age Breakdown\n",
        "data.groupby(['AInjAge']).size()"
      ]
    },
    {
      "cell_type": "code",
      "execution_count": 73,
      "metadata": {
        "id": "15Bh6JPvIZ2K",
        "colab": {
          "base_uri": "https://localhost:8080/",
          "height": 206
        },
        "outputId": "bca46882-b4a3-4ee9-e3e8-9e51298972ac"
      },
      "outputs": [
        {
          "output_type": "execute_result",
          "data": {
            "text/plain": [
              "   Decade     0\n",
              "0    1970  4008\n",
              "1    1980  8758\n",
              "2    1990  6552\n",
              "3    2000  6434\n",
              "4    2010  4475"
            ],
            "text/html": [
              "\n",
              "  <div id=\"df-03108075-fcba-4f88-928b-806dc83f0cd7\" class=\"colab-df-container\">\n",
              "    <div>\n",
              "<style scoped>\n",
              "    .dataframe tbody tr th:only-of-type {\n",
              "        vertical-align: middle;\n",
              "    }\n",
              "\n",
              "    .dataframe tbody tr th {\n",
              "        vertical-align: top;\n",
              "    }\n",
              "\n",
              "    .dataframe thead th {\n",
              "        text-align: right;\n",
              "    }\n",
              "</style>\n",
              "<table border=\"1\" class=\"dataframe\">\n",
              "  <thead>\n",
              "    <tr style=\"text-align: right;\">\n",
              "      <th></th>\n",
              "      <th>Decade</th>\n",
              "      <th>0</th>\n",
              "    </tr>\n",
              "  </thead>\n",
              "  <tbody>\n",
              "    <tr>\n",
              "      <th>0</th>\n",
              "      <td>1970</td>\n",
              "      <td>4008</td>\n",
              "    </tr>\n",
              "    <tr>\n",
              "      <th>1</th>\n",
              "      <td>1980</td>\n",
              "      <td>8758</td>\n",
              "    </tr>\n",
              "    <tr>\n",
              "      <th>2</th>\n",
              "      <td>1990</td>\n",
              "      <td>6552</td>\n",
              "    </tr>\n",
              "    <tr>\n",
              "      <th>3</th>\n",
              "      <td>2000</td>\n",
              "      <td>6434</td>\n",
              "    </tr>\n",
              "    <tr>\n",
              "      <th>4</th>\n",
              "      <td>2010</td>\n",
              "      <td>4475</td>\n",
              "    </tr>\n",
              "  </tbody>\n",
              "</table>\n",
              "</div>\n",
              "    <div class=\"colab-df-buttons\">\n",
              "\n",
              "  <div class=\"colab-df-container\">\n",
              "    <button class=\"colab-df-convert\" onclick=\"convertToInteractive('df-03108075-fcba-4f88-928b-806dc83f0cd7')\"\n",
              "            title=\"Convert this dataframe to an interactive table.\"\n",
              "            style=\"display:none;\">\n",
              "\n",
              "  <svg xmlns=\"http://www.w3.org/2000/svg\" height=\"24px\" viewBox=\"0 -960 960 960\">\n",
              "    <path d=\"M120-120v-720h720v720H120Zm60-500h600v-160H180v160Zm220 220h160v-160H400v160Zm0 220h160v-160H400v160ZM180-400h160v-160H180v160Zm440 0h160v-160H620v160ZM180-180h160v-160H180v160Zm440 0h160v-160H620v160Z\"/>\n",
              "  </svg>\n",
              "    </button>\n",
              "\n",
              "  <style>\n",
              "    .colab-df-container {\n",
              "      display:flex;\n",
              "      gap: 12px;\n",
              "    }\n",
              "\n",
              "    .colab-df-convert {\n",
              "      background-color: #E8F0FE;\n",
              "      border: none;\n",
              "      border-radius: 50%;\n",
              "      cursor: pointer;\n",
              "      display: none;\n",
              "      fill: #1967D2;\n",
              "      height: 32px;\n",
              "      padding: 0 0 0 0;\n",
              "      width: 32px;\n",
              "    }\n",
              "\n",
              "    .colab-df-convert:hover {\n",
              "      background-color: #E2EBFA;\n",
              "      box-shadow: 0px 1px 2px rgba(60, 64, 67, 0.3), 0px 1px 3px 1px rgba(60, 64, 67, 0.15);\n",
              "      fill: #174EA6;\n",
              "    }\n",
              "\n",
              "    .colab-df-buttons div {\n",
              "      margin-bottom: 4px;\n",
              "    }\n",
              "\n",
              "    [theme=dark] .colab-df-convert {\n",
              "      background-color: #3B4455;\n",
              "      fill: #D2E3FC;\n",
              "    }\n",
              "\n",
              "    [theme=dark] .colab-df-convert:hover {\n",
              "      background-color: #434B5C;\n",
              "      box-shadow: 0px 1px 3px 1px rgba(0, 0, 0, 0.15);\n",
              "      filter: drop-shadow(0px 1px 2px rgba(0, 0, 0, 0.3));\n",
              "      fill: #FFFFFF;\n",
              "    }\n",
              "  </style>\n",
              "\n",
              "    <script>\n",
              "      const buttonEl =\n",
              "        document.querySelector('#df-03108075-fcba-4f88-928b-806dc83f0cd7 button.colab-df-convert');\n",
              "      buttonEl.style.display =\n",
              "        google.colab.kernel.accessAllowed ? 'block' : 'none';\n",
              "\n",
              "      async function convertToInteractive(key) {\n",
              "        const element = document.querySelector('#df-03108075-fcba-4f88-928b-806dc83f0cd7');\n",
              "        const dataTable =\n",
              "          await google.colab.kernel.invokeFunction('convertToInteractive',\n",
              "                                                    [key], {});\n",
              "        if (!dataTable) return;\n",
              "\n",
              "        const docLinkHtml = 'Like what you see? Visit the ' +\n",
              "          '<a target=\"_blank\" href=https://colab.research.google.com/notebooks/data_table.ipynb>data table notebook</a>'\n",
              "          + ' to learn more about interactive tables.';\n",
              "        element.innerHTML = '';\n",
              "        dataTable['output_type'] = 'display_data';\n",
              "        await google.colab.output.renderOutput(dataTable, element);\n",
              "        const docLink = document.createElement('div');\n",
              "        docLink.innerHTML = docLinkHtml;\n",
              "        element.appendChild(docLink);\n",
              "      }\n",
              "    </script>\n",
              "  </div>\n",
              "\n",
              "\n",
              "<div id=\"df-86a7bc77-f64e-45e1-b3e0-cf9881710a6c\">\n",
              "  <button class=\"colab-df-quickchart\" onclick=\"quickchart('df-86a7bc77-f64e-45e1-b3e0-cf9881710a6c')\"\n",
              "            title=\"Suggest charts\"\n",
              "            style=\"display:none;\">\n",
              "\n",
              "<svg xmlns=\"http://www.w3.org/2000/svg\" height=\"24px\"viewBox=\"0 0 24 24\"\n",
              "     width=\"24px\">\n",
              "    <g>\n",
              "        <path d=\"M19 3H5c-1.1 0-2 .9-2 2v14c0 1.1.9 2 2 2h14c1.1 0 2-.9 2-2V5c0-1.1-.9-2-2-2zM9 17H7v-7h2v7zm4 0h-2V7h2v10zm4 0h-2v-4h2v4z\"/>\n",
              "    </g>\n",
              "</svg>\n",
              "  </button>\n",
              "\n",
              "<style>\n",
              "  .colab-df-quickchart {\n",
              "      --bg-color: #E8F0FE;\n",
              "      --fill-color: #1967D2;\n",
              "      --hover-bg-color: #E2EBFA;\n",
              "      --hover-fill-color: #174EA6;\n",
              "      --disabled-fill-color: #AAA;\n",
              "      --disabled-bg-color: #DDD;\n",
              "  }\n",
              "\n",
              "  [theme=dark] .colab-df-quickchart {\n",
              "      --bg-color: #3B4455;\n",
              "      --fill-color: #D2E3FC;\n",
              "      --hover-bg-color: #434B5C;\n",
              "      --hover-fill-color: #FFFFFF;\n",
              "      --disabled-bg-color: #3B4455;\n",
              "      --disabled-fill-color: #666;\n",
              "  }\n",
              "\n",
              "  .colab-df-quickchart {\n",
              "    background-color: var(--bg-color);\n",
              "    border: none;\n",
              "    border-radius: 50%;\n",
              "    cursor: pointer;\n",
              "    display: none;\n",
              "    fill: var(--fill-color);\n",
              "    height: 32px;\n",
              "    padding: 0;\n",
              "    width: 32px;\n",
              "  }\n",
              "\n",
              "  .colab-df-quickchart:hover {\n",
              "    background-color: var(--hover-bg-color);\n",
              "    box-shadow: 0 1px 2px rgba(60, 64, 67, 0.3), 0 1px 3px 1px rgba(60, 64, 67, 0.15);\n",
              "    fill: var(--button-hover-fill-color);\n",
              "  }\n",
              "\n",
              "  .colab-df-quickchart-complete:disabled,\n",
              "  .colab-df-quickchart-complete:disabled:hover {\n",
              "    background-color: var(--disabled-bg-color);\n",
              "    fill: var(--disabled-fill-color);\n",
              "    box-shadow: none;\n",
              "  }\n",
              "\n",
              "  .colab-df-spinner {\n",
              "    border: 2px solid var(--fill-color);\n",
              "    border-color: transparent;\n",
              "    border-bottom-color: var(--fill-color);\n",
              "    animation:\n",
              "      spin 1s steps(1) infinite;\n",
              "  }\n",
              "\n",
              "  @keyframes spin {\n",
              "    0% {\n",
              "      border-color: transparent;\n",
              "      border-bottom-color: var(--fill-color);\n",
              "      border-left-color: var(--fill-color);\n",
              "    }\n",
              "    20% {\n",
              "      border-color: transparent;\n",
              "      border-left-color: var(--fill-color);\n",
              "      border-top-color: var(--fill-color);\n",
              "    }\n",
              "    30% {\n",
              "      border-color: transparent;\n",
              "      border-left-color: var(--fill-color);\n",
              "      border-top-color: var(--fill-color);\n",
              "      border-right-color: var(--fill-color);\n",
              "    }\n",
              "    40% {\n",
              "      border-color: transparent;\n",
              "      border-right-color: var(--fill-color);\n",
              "      border-top-color: var(--fill-color);\n",
              "    }\n",
              "    60% {\n",
              "      border-color: transparent;\n",
              "      border-right-color: var(--fill-color);\n",
              "    }\n",
              "    80% {\n",
              "      border-color: transparent;\n",
              "      border-right-color: var(--fill-color);\n",
              "      border-bottom-color: var(--fill-color);\n",
              "    }\n",
              "    90% {\n",
              "      border-color: transparent;\n",
              "      border-bottom-color: var(--fill-color);\n",
              "    }\n",
              "  }\n",
              "</style>\n",
              "\n",
              "  <script>\n",
              "    async function quickchart(key) {\n",
              "      const quickchartButtonEl =\n",
              "        document.querySelector('#' + key + ' button');\n",
              "      quickchartButtonEl.disabled = true;  // To prevent multiple clicks.\n",
              "      quickchartButtonEl.classList.add('colab-df-spinner');\n",
              "      try {\n",
              "        const charts = await google.colab.kernel.invokeFunction(\n",
              "            'suggestCharts', [key], {});\n",
              "      } catch (error) {\n",
              "        console.error('Error during call to suggestCharts:', error);\n",
              "      }\n",
              "      quickchartButtonEl.classList.remove('colab-df-spinner');\n",
              "      quickchartButtonEl.classList.add('colab-df-quickchart-complete');\n",
              "    }\n",
              "    (() => {\n",
              "      let quickchartButtonEl =\n",
              "        document.querySelector('#df-86a7bc77-f64e-45e1-b3e0-cf9881710a6c button');\n",
              "      quickchartButtonEl.style.display =\n",
              "        google.colab.kernel.accessAllowed ? 'block' : 'none';\n",
              "    })();\n",
              "  </script>\n",
              "</div>\n",
              "\n",
              "    </div>\n",
              "  </div>\n"
            ],
            "application/vnd.google.colaboratory.intrinsic+json": {
              "type": "dataframe",
              "summary": "{\n  \"name\": \"decades\",\n  \"rows\": 5,\n  \"fields\": [\n    {\n      \"column\": \"Decade\",\n      \"properties\": {\n        \"dtype\": \"number\",\n        \"std\": 15,\n        \"min\": 1970,\n        \"max\": 2010,\n        \"num_unique_values\": 5,\n        \"samples\": [\n          1980,\n          2010,\n          1990\n        ],\n        \"semantic_type\": \"\",\n        \"description\": \"\"\n      }\n    },\n    {\n      \"column\": 0,\n      \"properties\": {\n        \"dtype\": \"number\",\n        \"std\": 1896,\n        \"min\": 4008,\n        \"max\": 8758,\n        \"num_unique_values\": 5,\n        \"samples\": [\n          8758,\n          4475,\n          6552\n        ],\n        \"semantic_type\": \"\",\n        \"description\": \"\"\n      }\n    }\n  ]\n}"
            }
          },
          "metadata": {},
          "execution_count": 73
        }
      ],
      "source": [
        "# Get Discharged Cohorts\n",
        "decades = data.groupby(['ADisDt']).size().reset_index()\n",
        "decades['Decade'] = (decades['ADisDt'] // 10) * 10\n",
        "decades.groupby('Decade')[0].sum().reset_index()"
      ]
    },
    {
      "cell_type": "code",
      "execution_count": 74,
      "metadata": {
        "id": "cy6RsV0PIZ2K",
        "colab": {
          "base_uri": "https://localhost:8080/"
        },
        "outputId": "6f4c8758-c508-42e3-9e5d-9d903393e825"
      },
      "outputs": [
        {
          "output_type": "execute_result",
          "data": {
            "text/plain": [
              "Etiology_cat  AInjAge  ASex\n",
              "OtherEtiol    0-14y    1        165\n",
              "                       2         61\n",
              "              15-29y   1       4894\n",
              "                       2        710\n",
              "                       3          1\n",
              "              30-44y   1       2954\n",
              "                       2        530\n",
              "              45-59y   1       2214\n",
              "                       2        468\n",
              "              60-74y   1       1260\n",
              "                       2        441\n",
              "              75+y     1        348\n",
              "                       2        210\n",
              "SportEtiol    0-14y    1         76\n",
              "                       2         34\n",
              "              15-29y   1       1978\n",
              "                       2        193\n",
              "              30-44y   1        481\n",
              "                       2         59\n",
              "              45-59y   1        186\n",
              "                       2         31\n",
              "              60-74y   1         65\n",
              "                       2          9\n",
              "              75+y     1          6\n",
              "VehicleEtiol  0-14y    1        108\n",
              "                       2         79\n",
              "              15-29y   1       5203\n",
              "                       2       1551\n",
              "                       3          1\n",
              "              30-44y   1       2438\n",
              "                       2        774\n",
              "              45-59y   1       1371\n",
              "                       2        438\n",
              "              60-74y   1        552\n",
              "                       2        181\n",
              "              75+y     1        127\n",
              "                       2         30\n",
              "dtype: int64"
            ]
          },
          "metadata": {},
          "execution_count": 74
        }
      ],
      "source": [
        "# Get Age Breakdown\n",
        "data.groupby(['Etiology_cat', 'AInjAge', 'ASex']).size()"
      ]
    },
    {
      "cell_type": "code",
      "execution_count": 75,
      "metadata": {
        "id": "H4VsclbqIZ2K"
      },
      "outputs": [],
      "source": [
        "# Analyze Stature Data\n",
        "\n",
        "# 999 is a placeholder and should be excluded\n",
        "filtered_data = data[data['AHghtRhb'] != 999]"
      ]
    },
    {
      "cell_type": "code",
      "execution_count": 76,
      "metadata": {
        "id": "m-dGhYcbIZ2K",
        "colab": {
          "base_uri": "https://localhost:8080/"
        },
        "outputId": "b71b0959-d82f-4c8e-89af-534e8e5132a1"
      },
      "outputs": [
        {
          "output_type": "execute_result",
          "data": {
            "text/plain": [
              "Etiology_cat  AInjAge  ASex\n",
              "OtherEtiol    0-14y    1         7\n",
              "                       2         2\n",
              "              15-29y   1       814\n",
              "                       2       116\n",
              "                       3         1\n",
              "              30-44y   1       552\n",
              "                       2        90\n",
              "              45-59y   1       734\n",
              "                       2       186\n",
              "              60-74y   1       509\n",
              "                       2       189\n",
              "              75+y     1       144\n",
              "                       2        81\n",
              "SportEtiol    0-14y    1         5\n",
              "                       2         3\n",
              "              15-29y   1       275\n",
              "                       2        28\n",
              "              30-44y   1       107\n",
              "                       2        16\n",
              "              45-59y   1        92\n",
              "                       2        13\n",
              "              60-74y   1        37\n",
              "                       2         4\n",
              "              75+y     1         3\n",
              "VehicleEtiol  0-14y    1         8\n",
              "                       2         4\n",
              "              15-29y   1       785\n",
              "                       2       270\n",
              "                       3         1\n",
              "              30-44y   1       494\n",
              "                       2       142\n",
              "              45-59y   1       486\n",
              "                       2       122\n",
              "              60-74y   1       198\n",
              "                       2        52\n",
              "              75+y     1        28\n",
              "                       2         8\n",
              "dtype: int64"
            ]
          },
          "metadata": {},
          "execution_count": 76
        }
      ],
      "source": [
        "filtered_data.groupby(['Etiology_cat', 'AInjAge', 'ASex']).size()"
      ]
    },
    {
      "cell_type": "code",
      "source": [
        "# Apply the function to create the 'CoreInjurySeverity' column\n",
        "filtered_data['CoreInjurySeverity'] = filtered_data.apply(categorize_core_injury_severity, axis=1)\n",
        "\n",
        "# Check the distribution of the new variable\n",
        "print(filtered_data['CoreInjurySeverity'].value_counts())\n",
        "\n",
        "# Preview the first 5 rows of the updated DataFrame\n",
        "print(filtered_data[['ANurLvlD', 'AASAImDs', 'AUMVDis', 'CoreInjurySeverity']].head())"
      ],
      "metadata": {
        "colab": {
          "base_uri": "https://localhost:8080/"
        },
        "id": "cP9Uw4gLoupl",
        "outputId": "28c94689-1aa3-4af0-e86b-894098c620e4"
      },
      "execution_count": 77,
      "outputs": [
        {
          "output_type": "stream",
          "name": "stdout",
          "text": [
            "CoreInjurySeverity\n",
            "CoreD        2364\n",
            "CorePara     2000\n",
            "CoreVent      833\n",
            "CoreLowC      715\n",
            "CoreHighC     675\n",
            "Name: count, dtype: int64\n",
            "     ANurLvlD AASAImDs  AUMVDis CoreInjurySeverity\n",
            "1821      T10        D        0              CoreD\n",
            "1822      C05        A        0           CoreLowC\n",
            "1823      T10        B        0           CorePara\n",
            "1824      T10        A        0           CorePara\n",
            "1825      C05        A        0           CoreLowC\n"
          ]
        },
        {
          "output_type": "stream",
          "name": "stderr",
          "text": [
            "<ipython-input-77-57ec05baea17>:2: SettingWithCopyWarning: \n",
            "A value is trying to be set on a copy of a slice from a DataFrame.\n",
            "Try using .loc[row_indexer,col_indexer] = value instead\n",
            "\n",
            "See the caveats in the documentation: https://pandas.pydata.org/pandas-docs/stable/user_guide/indexing.html#returning-a-view-versus-a-copy\n",
            "  filtered_data['CoreInjurySeverity'] = filtered_data.apply(categorize_core_injury_severity, axis=1)\n"
          ]
        }
      ]
    },
    {
      "cell_type": "code",
      "execution_count": 78,
      "metadata": {
        "id": "pdH7BgjOGq3w",
        "colab": {
          "base_uri": "https://localhost:8080/"
        },
        "outputId": "1058aefd-722a-4c58-ad98-25c922513f7f"
      },
      "outputs": [
        {
          "output_type": "stream",
          "name": "stdout",
          "text": [
            "count    6606.000000\n",
            "mean       69.132001\n",
            "std         3.960152\n",
            "min        34.000000\n",
            "25%        67.000000\n",
            "50%        70.000000\n",
            "75%        72.000000\n",
            "max        83.000000\n",
            "Name: AHghtRhb, dtype: float64\n",
            "QuinHgt\n",
            "1    1615\n",
            "4    1403\n",
            "3    1316\n",
            "5    1228\n",
            "2    1044\n",
            "Name: count, dtype: int64\n",
            "              mean  median       std\n",
            "NLI_cat                             \n",
            "C        69.311080    70.0  4.102351\n",
            "D        69.014475    70.0  3.909109\n",
            "L        68.817073    69.0  3.637649\n",
            "S        68.500000    68.5  7.778175\n",
            "T        69.138030    69.0  3.904427\n"
          ]
        },
        {
          "output_type": "stream",
          "name": "stderr",
          "text": [
            "<ipython-input-78-17054c7c5f82>:6: SettingWithCopyWarning: \n",
            "A value is trying to be set on a copy of a slice from a DataFrame.\n",
            "Try using .loc[row_indexer,col_indexer] = value instead\n",
            "\n",
            "See the caveats in the documentation: https://pandas.pydata.org/pandas-docs/stable/user_guide/indexing.html#returning-a-view-versus-a-copy\n",
            "  filtered_data['QuinHgt'] = pd.qcut(filtered_data['AHghtRhb'], 5, labels=[1, 2, 3, 4, 5], duplicates='drop')\n"
          ]
        }
      ],
      "source": [
        "# Recalculate descriptive statistics\n",
        "height_descriptives = filtered_data['AHghtRhb'].describe()\n",
        "print(height_descriptives)\n",
        "\n",
        "# Calculate quintiles with cleaned data\n",
        "filtered_data['QuinHgt'] = pd.qcut(filtered_data['AHghtRhb'], 5, labels=[1, 2, 3, 4, 5], duplicates='drop')\n",
        "\n",
        "# Check new quintile assignments\n",
        "print(filtered_data['QuinHgt'].value_counts())\n",
        "\n",
        "# Group by 'NLI_cat' and analyze height\n",
        "grouped_nli = filtered_data.groupby('NLI_cat')['AHghtRhb'].agg(['mean', 'median', 'std'])\n",
        "print(grouped_nli)\n",
        "\n"
      ]
    },
    {
      "cell_type": "code",
      "execution_count": 79,
      "metadata": {
        "id": "H_MLjL8wIZ2L"
      },
      "outputs": [],
      "source": [
        "grouped_nli = filtered_data.groupby('NLI_cat')['AHghtRhb'].agg(['mean', 'median', 'std'])\n"
      ]
    },
    {
      "cell_type": "code",
      "execution_count": 80,
      "metadata": {
        "id": "s6xxmNesIZ2L",
        "colab": {
          "base_uri": "https://localhost:8080/"
        },
        "outputId": "8a207e37-df90-4bf4-b628-1aa0a23fb116"
      },
      "outputs": [
        {
          "output_type": "stream",
          "name": "stdout",
          "text": [
            "                        mean  median       std\n",
            "Etiology_cat ASex                             \n",
            "OtherEtiol   1     70.074638    70.0  3.253494\n",
            "             2     64.421687    64.0  3.137841\n",
            "             3     69.000000    69.0       NaN\n",
            "SportEtiol   1     70.828516    71.0  3.038917\n",
            "             2     64.437500    64.0  3.245877\n",
            "VehicleEtiol 1     70.432716    71.0  3.217251\n",
            "             2     64.700669    65.0  3.297992\n",
            "             3     65.000000    65.0       NaN\n"
          ]
        }
      ],
      "source": [
        "# Group by 'Etiology_cat' and gender\n",
        "grouped_nli = filtered_data.groupby(['Etiology_cat', 'ASex'])['AHghtRhb'].agg(['mean', 'median', 'std'])\n",
        "print(grouped_nli)"
      ]
    },
    {
      "cell_type": "code",
      "execution_count": 81,
      "metadata": {
        "id": "UGJBVu3zIZ2L",
        "colab": {
          "base_uri": "https://localhost:8080/"
        },
        "outputId": "b42d008e-3b01-48ff-9020-0e972102135e"
      },
      "outputs": [
        {
          "output_type": "execute_result",
          "data": {
            "text/plain": [
              "0.029064486830154404"
            ]
          },
          "metadata": {},
          "execution_count": 81
        }
      ],
      "source": [
        "# Percentile Height Check\n",
        "len(filtered_data[filtered_data['AHghtRhb'] >= 73]) / len(filtered_data)\n",
        "len(filtered_data[filtered_data['AHghtRhb'] >= 72]) / len(filtered_data)\n",
        "\n",
        "len(filtered_data[(filtered_data['AHghtRhb'] >= 75) & (filtered_data['ASex'] == 2)]) / len(filtered_data)\n",
        "len(filtered_data[(filtered_data['AHghtRhb'] >= 69) & (filtered_data['ASex'] == 2)]) / len(filtered_data)\n",
        "\n",
        "len(filtered_data[(filtered_data['AHghtRhb'] >= 74) & (filtered_data['ASex'] == 1)]) / len(filtered_data)\n",
        "len(filtered_data[(filtered_data['AHghtRhb'] >= 68) & (filtered_data['ASex'] == 2)]) / len(filtered_data)\n"
      ]
    },
    {
      "cell_type": "code",
      "execution_count": 82,
      "metadata": {
        "id": "nhs_7S96GuZ3",
        "colab": {
          "base_uri": "https://localhost:8080/"
        },
        "outputId": "489076f2-f939-4e92-9da8-bfcdec9c3c8b"
      },
      "outputs": [
        {
          "output_type": "execute_result",
          "data": {
            "text/plain": [
              "69.0"
            ]
          },
          "metadata": {},
          "execution_count": 82
        }
      ],
      "source": [
        "# Calculate Percentiles\n",
        "percentiles = {\n",
        "    95: np.percentile(filtered_data['AHghtRhb'], 95),\n",
        "    90: np.percentile(filtered_data['AHghtRhb'], 90)\n",
        "}\n",
        "\n",
        "# Filter data based on these thresholds\n",
        "above_95 = filtered_data[filtered_data['AHghtRhb'] >= percentiles[95]]\n",
        "above_90 = filtered_data[filtered_data['AHghtRhb'] >= percentiles[90]]\n",
        "\n",
        "np.percentile(filtered_data[filtered_data['ASex'] == 2]['AHghtRhb'], 95)"
      ]
    },
    {
      "cell_type": "code",
      "execution_count": 83,
      "metadata": {
        "id": "KRhWfnhCG2ln",
        "colab": {
          "base_uri": "https://localhost:8080/"
        },
        "outputId": "4cee74a5-8181-4ad1-83f8-8a53947f8418"
      },
      "outputs": [
        {
          "output_type": "stream",
          "name": "stdout",
          "text": [
            "              mean  median       std\n",
            "NLI_cat                             \n",
            "C        70.364516    71.0  3.504879\n",
            "D        70.189055    71.0  3.746209\n",
            "L        69.066667    69.0  3.104528\n",
            "S        74.000000    74.0       NaN\n",
            "T        68.803571    69.0  4.020039\n",
            "              mean  median       std\n",
            "NLI_cat                             \n",
            "C        69.111957    70.0  4.201853\n",
            "D        69.283493    70.0  3.881449\n",
            "L        68.333333    68.0  3.892413\n",
            "S        63.000000    63.0       NaN\n",
            "T        69.025503    69.0  4.006801\n",
            "              mean  median       std\n",
            "NLI_cat                             \n",
            "C        69.148526    70.0  4.140213\n",
            "D        68.680666    69.0  3.906161\n",
            "L        69.013825    69.0  3.549230\n",
            "T        69.246561    69.0  3.815328\n"
          ]
        }
      ],
      "source": [
        "# Detailed Analysis by Etiology Category\n",
        "sports_data = filtered_data[filtered_data['Etiology_cat'] == 'SportEtiol']\n",
        "vehicular_data = filtered_data[filtered_data['Etiology_cat'] == 'VehicleEtiol']\n",
        "others_data = filtered_data[filtered_data['Etiology_cat'] == 'OtherEtiol']\n",
        "\n",
        "# Calculate descriptive statistics for each group\n",
        "sports_descriptives = sports_data.groupby('NLI_cat')['AHghtRhb'].agg(['mean', 'median', 'std'])\n",
        "vehicular_descriptives = vehicular_data.groupby('NLI_cat')['AHghtRhb'].agg(['mean', 'median', 'std'])\n",
        "other_descriptives = others_data.groupby('NLI_cat')['AHghtRhb'].agg(['mean', 'median', 'std'])\n",
        "\n",
        "print(sports_descriptives)\n",
        "print(vehicular_descriptives)\n",
        "print(other_descriptives)\n",
        "\n"
      ]
    },
    {
      "cell_type": "code",
      "execution_count": 84,
      "metadata": {
        "id": "wb2zTRS0G8KK",
        "colab": {
          "base_uri": "https://localhost:8080/"
        },
        "outputId": "26c3be2f-9947-40e0-eff1-1f87af367bdb"
      },
      "outputs": [
        {
          "output_type": "stream",
          "name": "stdout",
          "text": [
            "QuinHgt               1    2    3    4    5\n",
            "CoreInjurySeverity                         \n",
            "CoreD               616  363  464  516  405\n",
            "CoreHighC           149  118  121  161  126\n",
            "CoreLowC            169  103  155  143  145\n",
            "CorePara            485  341  419  405  350\n",
            "CoreVent            192  115  156  177  193\n",
            "Percentage of persons with SCI who are 73” and greater: 18.59%\n",
            "Percentage of men with SCI who are 75” or greater: 8.01%\n",
            "Percentage of women with SCI who are 69” or greater: 8.75%\n",
            "Percentage of persons with SCI who are 72” and greater: 30.76%\n",
            "Percentage of men with SCI who are 74” or greater: 15.04%\n",
            "Percentage of women with SCI who are 68” or greater: 14.48%\n",
            "              90th_percentile  95th_percentile\n",
            "Etiology_cat                                  \n",
            "OtherEtiol               74.0             75.0\n",
            "SportEtiol               74.0             76.0\n",
            "VehicleEtiol             74.0             75.0\n",
            "count    6606.000000\n",
            "mean       69.132001\n",
            "std         3.960152\n",
            "min        34.000000\n",
            "25%        67.000000\n",
            "50%        70.000000\n",
            "75%        72.000000\n",
            "max        83.000000\n",
            "Name: AHghtRhb, dtype: float64\n",
            "QuinHgt\n",
            "1    1615\n",
            "4    1403\n",
            "3    1316\n",
            "5    1228\n",
            "2    1044\n",
            "Name: count, dtype: int64\n",
            "                      mean  median       std\n",
            "NLI_cat QuinHgt                             \n",
            "C       1        63.615546    64.0  3.125665\n",
            "        2        67.483180    67.0  0.500483\n",
            "        3        69.565217    70.0  0.496328\n",
            "        4        71.542857    72.0  0.498708\n",
            "        5        74.284091    74.0  1.417020\n",
            "D       1        63.807937    64.0  2.085517\n",
            "        2        67.544959    68.0  0.498654\n",
            "        3        69.562368    70.0  0.496620\n",
            "        4        71.575758    72.0  0.494696\n",
            "        5        74.271429    74.0  1.363571\n",
            "L       1        64.024390    65.0  1.905001\n",
            "        2        67.567164    68.0  0.499208\n",
            "        3        69.492754    69.0  0.503610\n",
            "        4        71.508475    72.0  0.504219\n",
            "        5        74.137255    74.0  1.371417\n",
            "S       1        63.000000    63.0       NaN\n",
            "        2              NaN     NaN       NaN\n",
            "        3              NaN     NaN       NaN\n",
            "        4              NaN     NaN       NaN\n",
            "        5        74.000000    74.0       NaN\n",
            "T       1        63.887324    64.0  2.399309\n",
            "        2        67.551237    68.0  0.498249\n",
            "        3        69.527778    70.0  0.499923\n",
            "        4        71.617729    72.0  0.486617\n",
            "        5        74.360759    74.0  1.331991\n",
            "                                 mean  median       std\n",
            "CoreInjurySeverity QuinHgt                             \n",
            "CoreD              1        63.811688    64.0  2.084459\n",
            "                   2        67.539945    68.0  0.499090\n",
            "                   3        69.564655    70.0  0.496337\n",
            "                   4        71.573643    72.0  0.495027\n",
            "                   5        74.296296    74.0  1.377367\n",
            "CoreHighC          1        63.946309    64.0  2.036111\n",
            "                   2        67.516949    68.0  0.501844\n",
            "                   3        69.561983    70.0  0.498206\n",
            "                   4        71.552795    72.0  0.498756\n",
            "                   5        74.341270    74.0  1.426395\n",
            "CoreLowC           1        63.727811    64.0  2.961538\n",
            "                   2        67.456311    67.0  0.500523\n",
            "                   3        69.541935    70.0  0.499853\n",
            "                   4        71.475524    71.0  0.501156\n",
            "                   5        74.337931    74.0  1.370425\n",
            "CorePara           1        63.878351    64.0  2.345130\n",
            "                   2        67.557185    68.0  0.497449\n",
            "                   3        69.520286    70.0  0.500186\n",
            "                   4        71.600000    72.0  0.490504\n",
            "                   5        74.314286    74.0  1.338678\n",
            "CoreVent           1        63.385417    64.0  3.734289\n",
            "                   2        67.486957    67.0  0.502017\n",
            "                   3        69.589744    70.0  0.493464\n",
            "                   4        71.604520    72.0  0.490341\n",
            "                   5        74.165803    74.0  1.351493\n",
            "Sports Etiology NLI Descriptives:\n",
            "               mean  median       std\n",
            "NLI_cat                             \n",
            "C        70.364516    71.0  3.504879\n",
            "D        70.189055    71.0  3.746209\n",
            "L        69.066667    69.0  3.104528\n",
            "S        74.000000    74.0       NaN\n",
            "T        68.803571    69.0  4.020039\n",
            "Vehicle Etiology NLI Descriptives:\n",
            "               mean  median       std\n",
            "NLI_cat                             \n",
            "C        69.111957    70.0  4.201853\n",
            "D        69.283493    70.0  3.881449\n",
            "L        68.333333    68.0  3.892413\n",
            "S        63.000000    63.0       NaN\n",
            "T        69.025503    69.0  4.006801\n"
          ]
        },
        {
          "output_type": "stream",
          "name": "stderr",
          "text": [
            "<ipython-input-84-8997097dfb4a>:40: SettingWithCopyWarning: \n",
            "A value is trying to be set on a copy of a slice from a DataFrame.\n",
            "Try using .loc[row_indexer,col_indexer] = value instead\n",
            "\n",
            "See the caveats in the documentation: https://pandas.pydata.org/pandas-docs/stable/user_guide/indexing.html#returning-a-view-versus-a-copy\n",
            "  filtered_data['QuinHgt'] = pd.qcut(filtered_data['AHghtRhb'], 5, labels=[1, 2, 3, 4, 5], duplicates='drop')\n"
          ]
        }
      ],
      "source": [
        "# Calculate the distribution of CoreInjurySeverity by height quintiles\n",
        "core_injury_quintile_distribution = filtered_data.groupby(['CoreInjurySeverity', 'QuinHgt']).size().unstack()\n",
        "print(core_injury_quintile_distribution)\n",
        "\n",
        "# Calculate percentages for specified heights\n",
        "percent_73_or_greater = len(filtered_data[filtered_data['AHghtRhb'] >= 73]) / len(filtered_data)\n",
        "percent_men_75_or_greater = len(filtered_data[(filtered_data['AHghtRhb'] >= 75) & (filtered_data['ASex'] == 1)]) / len(filtered_data[filtered_data['ASex'] == 1])\n",
        "percent_women_69_or_greater = len(filtered_data[(filtered_data['AHghtRhb'] >= 69) & (filtered_data['ASex'] == 2)]) / len(filtered_data[filtered_data['ASex'] == 2])\n",
        "\n",
        "# Print results\n",
        "print(\"Percentage of persons with SCI who are 73” and greater: {:.2%}\".format(percent_73_or_greater))\n",
        "print(\"Percentage of men with SCI who are 75” or greater: {:.2%}\".format(percent_men_75_or_greater))\n",
        "print(\"Percentage of women with SCI who are 69” or greater: {:.2%}\".format(percent_women_69_or_greater))\n",
        "\n",
        "# Calculate percentages for specified heights\n",
        "percent_72_or_greater = len(filtered_data[filtered_data['AHghtRhb'] >= 72]) / len(filtered_data)\n",
        "percent_men_74_or_greater = len(filtered_data[(filtered_data['AHghtRhb'] >= 74) & (filtered_data['ASex'] == 1)]) / len(filtered_data[filtered_data['ASex'] == 1])\n",
        "percent_women_68_or_greater = len(filtered_data[(filtered_data['AHghtRhb'] >= 68) & (filtered_data['ASex'] == 2)]) / len(filtered_data[filtered_data['ASex'] == 2])\n",
        "\n",
        "# Print results\n",
        "print(\"Percentage of persons with SCI who are 72” and greater: {:.2%}\".format(percent_72_or_greater))\n",
        "print(\"Percentage of men with SCI who are 74” or greater: {:.2%}\".format(percent_men_74_or_greater))\n",
        "print(\"Percentage of women with SCI who are 68” or greater: {:.2%}\".format(percent_women_68_or_greater))\n",
        "\n",
        "# Calculate percentiles within etiology categories\n",
        "def calculate_percentiles(group):\n",
        "    return {\n",
        "        '90th_percentile': np.percentile(group, 90),\n",
        "        '95th_percentile': np.percentile(group, 95)\n",
        "    }\n",
        "\n",
        "percentiles_within_etiology = filtered_data.groupby('Etiology_cat')['AHghtRhb'].apply(calculate_percentiles).unstack()\n",
        "print(percentiles_within_etiology)\n",
        "\n",
        "# Calculate descriptive statistics\n",
        "height_descriptives = filtered_data['AHghtRhb'].describe()\n",
        "print(height_descriptives)\n",
        "\n",
        "# Calculate quintiles and assign each person a quintile\n",
        "filtered_data['QuinHgt'] = pd.qcut(filtered_data['AHghtRhb'], 5, labels=[1, 2, 3, 4, 5], duplicates='drop')\n",
        "\n",
        "# Verify the quintile assignments\n",
        "print(filtered_data['QuinHgt'].value_counts())\n",
        "\n",
        "# Group by NLI category and height quintile, then calculate descriptive statistics\n",
        "nli_descriptive_stats = filtered_data.groupby(['NLI_cat', 'QuinHgt'])['AHghtRhb'].agg(['mean', 'median', 'std'])\n",
        "print(nli_descriptive_stats)\n",
        "\n",
        "# Group by CoreInjurySeverity category and height quintile, then calculate descriptive statistics\n",
        "core_injury_descriptive_stats = filtered_data.groupby(['CoreInjurySeverity', 'QuinHgt'])['AHghtRhb'].agg(['mean', 'median', 'std'])\n",
        "print(core_injury_descriptive_stats)\n",
        "\n",
        "# For height, calculate mean, median, and standard deviation for each NLI using the two etiologies\n",
        "sports_data = filtered_data[filtered_data['Etiology_cat'] == 'SportEtiol']\n",
        "vehicular_data = filtered_data[filtered_data['Etiology_cat'] == 'VehicleEtiol']\n",
        "\n",
        "sports_descriptive_stats = sports_data.groupby('NLI_cat')['AHghtRhb'].agg(['mean', 'median', 'std'])\n",
        "vehicular_descriptive_stats = vehicular_data.groupby('NLI_cat')['AHghtRhb'].agg(['mean', 'median', 'std'])\n",
        "\n",
        "print(\"Sports Etiology NLI Descriptives:\\n\", sports_descriptive_stats)\n",
        "print(\"Vehicle Etiology NLI Descriptives:\\n\", vehicular_descriptive_stats)\n"
      ]
    },
    {
      "cell_type": "code",
      "source": [
        "# Odds Ratio Analysis\n",
        "from scipy.stats import chi2_contingency\n",
        "\n",
        "# Function to calculate odds ratio\n",
        "def calculate_odds_ratio(data, condition):\n",
        "    contingency_table = pd.crosstab(condition, data['AHghtRhb'] >= 73)\n",
        "    chi2, p, _, _ = chi2_contingency(contingency_table)\n",
        "    odds_ratio = (contingency_table.iloc[1, 1] / contingency_table.iloc[1, 0]) / (contingency_table.iloc[0, 1] / contingency_table.iloc[0, 0])\n",
        "    return odds_ratio, p\n",
        "\n",
        "# Calculate odds ratios for each CoreInjurySeverity category\n",
        "categories = ['CoreHighC', 'CoreLowC', 'CorePara', 'CoreD', 'CoreVent']\n",
        "\n",
        "results = {}\n",
        "for category in categories:\n",
        "    condition = filtered_data['CoreInjurySeverity'] == category\n",
        "    if condition.sum() > 0:  # Ensure there is data for the category\n",
        "        odds_ratio, p_value = calculate_odds_ratio(filtered_data, condition)\n",
        "        results[category] = (odds_ratio, p_value)\n",
        "\n",
        "for category, (odds_ratio, p_value) in results.items():\n",
        "    print(f\"Odds Ratio for {category}: {odds_ratio} P-value: {p_value}\")\n"
      ],
      "metadata": {
        "colab": {
          "base_uri": "https://localhost:8080/"
        },
        "id": "K2tTSj3BsmYx",
        "outputId": "cab5d8be-76d7-4534-a2d8-84f35bdb330d"
      },
      "execution_count": 85,
      "outputs": [
        {
          "output_type": "stream",
          "name": "stdout",
          "text": [
            "Odds Ratio for CoreHighC: 1.0057124155782333 P-value: 0.9980703660884813\n",
            "Odds Ratio for CoreLowC: 1.1293515413649544 P-value: 0.2381533112622589\n",
            "Odds Ratio for CorePara: 0.9006695658176296 P-value: 0.1429014375556241\n",
            "Odds Ratio for CoreD: 0.858855008847845 P-value: 0.025106832564657396\n",
            "Odds Ratio for CoreVent: 1.3804861111111113 P-value: 0.0003341342080771632\n"
          ]
        }
      ]
    },
    {
      "cell_type": "code",
      "source": [
        "# Dataframes\n",
        "nli_quintile_distribution = filtered_data.groupby(['NLI_cat', 'QuinHgt']).size().unstack()\n",
        "etiology_quintile_distribution = filtered_data.groupby(['Etiology_cat', 'QuinHgt']).size().unstack()\n",
        "height_descriptives = filtered_data['AHghtRhb'].describe()\n",
        "nli_descriptive_stats = filtered_data.groupby(['NLI_cat', 'QuinHgt'])['AHghtRhb'].agg(['mean', 'median', 'std'])\n",
        "core_injury_descriptive_stats = filtered_data.groupby(['CoreInjurySeverity', 'QuinHgt'])['AHghtRhb'].agg(['mean', 'median', 'std'])\n",
        "\n",
        "# Export to Excel\n",
        "with pd.ExcelWriter('results.xlsx') as writer:\n",
        "    nli_quintile_distribution.to_excel(writer, sheet_name='NLI_Quintile_Distribution')\n",
        "    etiology_quintile_distribution.to_excel(writer, sheet_name='Etiology_Quintile_Distribution')\n",
        "    height_descriptives.to_frame().to_excel(writer, sheet_name='Height_Descriptives')  # Convert Series to DataFrame\n",
        "    nli_descriptive_stats.to_excel(writer, sheet_name='NLI_Descriptive_Stats')\n",
        "    core_injury_descriptive_stats.to_excel(writer, sheet_name='Core_Injury_Descriptive_Stats')\n"
      ],
      "metadata": {
        "id": "XZ_e9ZDWp0yM"
      },
      "execution_count": 86,
      "outputs": []
    },
    {
      "cell_type": "code",
      "source": [],
      "metadata": {
        "id": "yrMhWbuQxXjI"
      },
      "execution_count": 86,
      "outputs": []
    }
  ],
  "metadata": {
    "colab": {
      "provenance": []
    },
    "kernelspec": {
      "display_name": "Python 3",
      "name": "python3"
    },
    "language_info": {
      "codemirror_mode": {
        "name": "ipython",
        "version": 3
      },
      "file_extension": ".py",
      "mimetype": "text/x-python",
      "name": "python",
      "nbconvert_exporter": "python",
      "pygments_lexer": "ipython3",
      "version": "3.11.5"
    }
  },
  "nbformat": 4,
  "nbformat_minor": 0
}