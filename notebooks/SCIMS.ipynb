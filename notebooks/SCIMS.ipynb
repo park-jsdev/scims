{
  "nbformat": 4,
  "nbformat_minor": 0,
  "metadata": {
    "colab": {
      "provenance": []
    },
    "kernelspec": {
      "name": "python3",
      "display_name": "Python 3"
    },
    "language_info": {
      "name": "python"
    }
  },
  "cells": [
    {
      "cell_type": "code",
      "execution_count": 3,
      "metadata": {
        "colab": {
          "base_uri": "https://localhost:8080/"
        },
        "id": "SLTEzr8Z9C9T",
        "outputId": "88f1297f-452a-49fe-d24b-146275b8948d"
      },
      "outputs": [
        {
          "output_type": "stream",
          "name": "stderr",
          "text": [
            "<ipython-input-3-5f5c5acb96bd>:5: DtypeWarning: Columns (18) have mixed types. Specify dtype option on import or set low_memory=False.\n",
            "  csv_data = pd.read_csv('f1_public.csv')\n"
          ]
        },
        {
          "output_type": "stream",
          "name": "stdout",
          "text": [
            "   UniID  AInjDt  AAdmDt  ARbAdmDt  ADisDt AInjAge  ARbAdDtM  ASDDAc2R  \\\n",
            "0      1    1982    1982    1982.0    1982  15-29y         1       888   \n",
            "1      2    1982    1982    1982.0    1982  15-29y         1       888   \n",
            "2      3    1982    1982    1982.0    1982  15-29y         1       888   \n",
            "3      4    1982    1982    1982.0    1983  15-29y         1       888   \n",
            "4      5    1982    1982    1982.0    1982  15-29y         1       888   \n",
            "\n",
            "   ASDDDurR  AI2ADays  ...  AFTltgDs  AFBdMgDs  AFBwMgDs  AFMBCWDs  AFMTltDs  \\\n",
            "0         0        51  ...         9         9         9         9         9   \n",
            "1         0        24  ...         9         9         9         9         9   \n",
            "2         2        13  ...         9         9         9         9         9   \n",
            "3         0        26  ...         9         9         9         9         9   \n",
            "4         0        32  ...         9         9         9         9         9   \n",
            "\n",
            "   AFMTShDs  AFLWWcDs  AFLModDs AFLStrDs  AFScorDs  \n",
            "0         9         9         9        9      99.0  \n",
            "1         9         9         9        9      99.0  \n",
            "2         9         9         9        9      99.0  \n",
            "3         9         9         9        9      99.0  \n",
            "4         9         9         9        9      99.0  \n",
            "\n",
            "[5 rows x 417 columns]\n"
          ]
        }
      ],
      "source": [
        "import pandas as pd\n",
        "\n",
        "data = pd.read_csv('f1_public.csv')\n",
        "print(csv_data.head())\n"
      ]
    },
    {
      "cell_type": "code",
      "source": [
        "!pip install pyreadstat"
      ],
      "metadata": {
        "colab": {
          "base_uri": "https://localhost:8080/"
        },
        "id": "t31KkE2CCZUJ",
        "outputId": "edd7fc9c-3ea1-43f8-dbe7-fdd9fd4459c0"
      },
      "execution_count": 4,
      "outputs": [
        {
          "output_type": "stream",
          "name": "stdout",
          "text": [
            "Collecting pyreadstat\n",
            "  Downloading pyreadstat-1.2.7-cp310-cp310-manylinux_2_17_x86_64.manylinux2014_x86_64.whl (2.8 MB)\n",
            "\u001b[2K     \u001b[90m━━━━━━━━━━━━━━━━━━━━━━━━━━━━━━━━━━━━━━━━\u001b[0m \u001b[32m2.8/2.8 MB\u001b[0m \u001b[31m16.1 MB/s\u001b[0m eta \u001b[36m0:00:00\u001b[0m\n",
            "\u001b[?25hRequirement already satisfied: pandas>=1.2.0 in /usr/local/lib/python3.10/dist-packages (from pyreadstat) (2.0.3)\n",
            "Requirement already satisfied: python-dateutil>=2.8.2 in /usr/local/lib/python3.10/dist-packages (from pandas>=1.2.0->pyreadstat) (2.8.2)\n",
            "Requirement already satisfied: pytz>=2020.1 in /usr/local/lib/python3.10/dist-packages (from pandas>=1.2.0->pyreadstat) (2023.4)\n",
            "Requirement already satisfied: tzdata>=2022.1 in /usr/local/lib/python3.10/dist-packages (from pandas>=1.2.0->pyreadstat) (2024.1)\n",
            "Requirement already satisfied: numpy>=1.21.0 in /usr/local/lib/python3.10/dist-packages (from pandas>=1.2.0->pyreadstat) (1.25.2)\n",
            "Requirement already satisfied: six>=1.5 in /usr/local/lib/python3.10/dist-packages (from python-dateutil>=2.8.2->pandas>=1.2.0->pyreadstat) (1.16.0)\n",
            "Installing collected packages: pyreadstat\n",
            "Successfully installed pyreadstat-1.2.7\n"
          ]
        }
      ]
    },
    {
      "cell_type": "code",
      "source": [
        "# Reading a SAS file with increased chunk size\n",
        "sas_data = pd.read_sas('f1_public.sas7bdat', chunksize=10000)\n",
        "\n",
        "# Displaying the first few rows of the dataframe\n",
        "for chunk in sas_data:\n",
        "    print(chunk.head())\n"
      ],
      "metadata": {
        "colab": {
          "base_uri": "https://localhost:8080/"
        },
        "id": "uwbyHeJrCb1E",
        "outputId": "592b8123-4cf0-4540-ef91-0082955acc74"
      },
      "execution_count": null,
      "outputs": [
        {
          "output_type": "stream",
          "name": "stdout",
          "text": [
            "   UniID  AInjDt  AAdmDt  ARbAdmDt  ADisDt    AInjAge  ARbAdDtM  ASDDAc2R  \\\n",
            "0    1.0  1982.0  1982.0    1982.0  1982.0  b'15-29y'       1.0     888.0   \n",
            "1    2.0  1982.0  1982.0    1982.0  1982.0  b'15-29y'       1.0     888.0   \n",
            "2    3.0  1982.0  1982.0    1982.0  1982.0  b'15-29y'       1.0     888.0   \n",
            "3    4.0  1982.0  1982.0    1982.0  1983.0  b'15-29y'       1.0     888.0   \n",
            "4    5.0  1982.0  1982.0    1982.0  1982.0  b'15-29y'       1.0     888.0   \n",
            "\n",
            "   ASDDDurR  AI2ADays  ...  AFTltgDs  AFBdMgDs  AFBwMgDs  AFMBCWDs  AFMTltDs  \\\n",
            "0       0.0      51.0  ...       9.0       9.0       9.0       9.0       9.0   \n",
            "1       0.0      24.0  ...       9.0       9.0       9.0       9.0       9.0   \n",
            "2       2.0      13.0  ...       9.0       9.0       9.0       9.0       9.0   \n",
            "3       0.0      26.0  ...       9.0       9.0       9.0       9.0       9.0   \n",
            "4       0.0      32.0  ...       9.0       9.0       9.0       9.0       9.0   \n",
            "\n",
            "   AFMTShDs  AFLWWcDs  AFLModDs AFLStrDs  AFScorDs  \n",
            "0       9.0       9.0       9.0      9.0      99.0  \n",
            "1       9.0       9.0       9.0      9.0      99.0  \n",
            "2       9.0       9.0       9.0      9.0      99.0  \n",
            "3       9.0       9.0       9.0      9.0      99.0  \n",
            "4       9.0       9.0       9.0      9.0      99.0  \n",
            "\n",
            "[5 rows x 417 columns]\n",
            "         UniID  AInjDt  AAdmDt  ARbAdmDt  ADisDt    AInjAge  ARbAdDtM  \\\n",
            "10000  10001.0  1991.0  1991.0    1991.0  1991.0  b'15-29y'       1.0   \n",
            "10001  10002.0  1991.0  1991.0    1991.0  1991.0  b'30-44y'       1.0   \n",
            "10002  10003.0  1991.0  1991.0    1991.0  1991.0  b'30-44y'       1.0   \n",
            "10003  10004.0  1991.0  1991.0    1991.0  1991.0  b'45-59y'       1.0   \n",
            "10004  10005.0  1991.0  1991.0    1991.0  1991.0  b'15-29y'       1.0   \n",
            "\n",
            "       ASDDAc2R  ASDDDurR  AI2ADays  ...  AFTltgDs  AFBdMgDs  AFBwMgDs  \\\n",
            "10000       0.0       0.0       1.0  ...       3.0       6.0       6.0   \n",
            "10001       0.0       0.0       1.0  ...       6.0       6.0       6.0   \n",
            "10002       0.0       0.0       1.0  ...       2.0       5.0       2.0   \n",
            "10003       0.0       0.0       1.0  ...       6.0       7.0       7.0   \n",
            "10004     888.0       0.0      11.0  ...       7.0       6.0       6.0   \n",
            "\n",
            "       AFMBCWDs  AFMTltDs  AFMTShDs  AFLWWcDs  AFLModDs AFLStrDs  AFScorDs  \n",
            "10000       5.0       5.0       5.0       5.0       1.0      1.0      66.0  \n",
            "10001       7.0       6.0       6.0       5.0       1.0      1.0      75.0  \n",
            "10002       3.0       2.0       2.0       3.0       1.0      1.0      41.0  \n",
            "10003       7.0       7.0       7.0       6.0       0.0      4.0      84.0  \n",
            "10004       7.0       6.0       6.0       5.0       1.0      1.0      78.0  \n",
            "\n",
            "[5 rows x 417 columns]\n",
            "         UniID  AInjDt  AAdmDt  ARbAdmDt  ADisDt    AInjAge  ARbAdDtM  \\\n",
            "20000  20001.0  2006.0  2006.0    2006.0  2006.0  b'15-29y'       1.0   \n",
            "20001  20002.0  2006.0  2006.0    2006.0  2007.0  b'30-44y'       1.0   \n",
            "20002  20003.0  2006.0  2006.0    2006.0  2007.0  b'60-74y'       1.0   \n",
            "20003  20004.0  2006.0  2006.0    2006.0  2007.0  b'30-44y'       1.0   \n",
            "20004  20005.0  2006.0  2007.0    2007.0  2007.0  b'30-44y'       1.0   \n",
            "\n",
            "       ASDDAc2R  ASDDDurR  AI2ADays  ...  AFTltgDs  AFBdMgDs  AFBwMgDs  \\\n",
            "20000     888.0       0.0      19.0  ...       1.0       1.0       1.0   \n",
            "20001     888.0       0.0      59.0  ...       6.0       6.0       6.0   \n",
            "20002     888.0       0.0      24.0  ...       1.0       1.0       1.0   \n",
            "20003     888.0       0.0      11.0  ...       3.0       4.0       4.0   \n",
            "20004     888.0       0.0      29.0  ...       1.0       1.0       1.0   \n",
            "\n",
            "       AFMBCWDs  AFMTltDs  AFMTShDs  AFLWWcDs  AFLModDs AFLStrDs  AFScorDs  \n",
            "20000       1.0       4.0       4.0       6.0       1.0      3.0      53.0  \n",
            "20001       6.0       5.0       5.0       6.0       1.0      1.0      73.0  \n",
            "20002       2.0       1.0       1.0       6.0       1.0      1.0      19.0  \n",
            "20003       4.0       4.0       4.0       6.0       1.0      1.0      51.0  \n",
            "20004       1.0       1.0       1.0       6.0       1.0      1.0      23.0  \n",
            "\n",
            "[5 rows x 417 columns]\n",
            "         UniID  AInjDt  AAdmDt  ARbAdmDt  ADisDt    AInjAge  ARbAdDtM  \\\n",
            "30000  30001.0  1975.0  1975.0    1976.0  1976.0  b'15-29y'       1.0   \n",
            "30001  30002.0  1975.0  1975.0    1975.0  1976.0  b'15-29y'       1.0   \n",
            "30002  30003.0  1975.0  1975.0    1975.0  1976.0  b'15-29y'       1.0   \n",
            "30003  30004.0  1975.0  1975.0       NaN  1975.0  b'30-44y'       8.0   \n",
            "30004  30005.0  1975.0  1975.0    1975.0  1976.0  b'45-59y'       1.0   \n",
            "\n",
            "       ASDDAc2R  ASDDDurR  AI2ADays  ...  AFTltgDs  AFBdMgDs  AFBwMgDs  \\\n",
            "30000       0.0       0.0       3.0  ...       9.0       9.0       9.0   \n",
            "30001     888.0       0.0      69.0  ...       9.0       9.0       9.0   \n",
            "30002     888.0       0.0      56.0  ...       9.0       9.0       9.0   \n",
            "30003       0.0     888.0      17.0  ...       9.0       9.0       9.0   \n",
            "30004     888.0       0.0       3.0  ...       9.0       9.0       9.0   \n",
            "\n",
            "       AFMBCWDs  AFMTltDs  AFMTShDs  AFLWWcDs  AFLModDs AFLStrDs  AFScorDs  \n",
            "30000       9.0       9.0       9.0       9.0       9.0      9.0      99.0  \n",
            "30001       9.0       9.0       9.0       9.0       9.0      9.0      99.0  \n",
            "30002       9.0       9.0       9.0       9.0       9.0      9.0      99.0  \n",
            "30003       9.0       9.0       9.0       9.0       9.0      9.0      99.0  \n",
            "30004       9.0       9.0       9.0       9.0       9.0      9.0      99.0  \n",
            "\n",
            "[5 rows x 417 columns]\n"
          ]
        }
      ]
    },
    {
      "cell_type": "code",
      "source": [
        "!pip install pandas numpy\n",
        "import pandas as pd\n",
        "import numpy as np\n"
      ],
      "metadata": {
        "colab": {
          "base_uri": "https://localhost:8080/"
        },
        "id": "mmtpyCKmDn89",
        "outputId": "0ba02a2f-71b3-4a7e-ccba-2ec358b4965c"
      },
      "execution_count": 7,
      "outputs": [
        {
          "output_type": "stream",
          "name": "stdout",
          "text": [
            "Requirement already satisfied: pandas in /usr/local/lib/python3.10/dist-packages (2.0.3)\n",
            "Requirement already satisfied: numpy in /usr/local/lib/python3.10/dist-packages (1.25.2)\n",
            "Requirement already satisfied: python-dateutil>=2.8.2 in /usr/local/lib/python3.10/dist-packages (from pandas) (2.8.2)\n",
            "Requirement already satisfied: pytz>=2020.1 in /usr/local/lib/python3.10/dist-packages (from pandas) (2023.4)\n",
            "Requirement already satisfied: tzdata>=2022.1 in /usr/local/lib/python3.10/dist-packages (from pandas) (2024.1)\n",
            "Requirement already satisfied: six>=1.5 in /usr/local/lib/python3.10/dist-packages (from python-dateutil>=2.8.2->pandas) (1.16.0)\n"
          ]
        }
      ]
    },
    {
      "cell_type": "code",
      "source": [
        "# New Feature Creation - Neurologic Level of Injury (NLI_cat)\n",
        "\n",
        "def categorize_nli(row):\n",
        "    # Ensure 'ANurLvlD' is treated as a string, safely handling NaN values\n",
        "    anlvl = str(row['ANurLvlD'])\n",
        "\n",
        "    # Check the ASIA impairment scale\n",
        "    if row['AASAImDs'] in ['A', 'B', 'C']:\n",
        "        # Check the neurological level of injury for cervical\n",
        "        if any(anlvl.startswith(x) for x in ('C01', 'C02', 'C03', 'C04', 'C05', 'C06', 'C07', 'C08', 'CC99')):\n",
        "            return 'C'\n",
        "        # Check for thoracic level\n",
        "        elif any(anlvl.startswith(x) for x in ('T01', 'T02', 'T03', 'T04', 'T05', 'T06', 'T07', 'T08', 'T09', 'T10', 'T11', 'T12', 'T99')):\n",
        "            return 'T'\n",
        "        # Check for lumbar level\n",
        "        elif any(anlvl.startswith(x) for x in ('L01', 'L02', 'L03', 'L04', 'L05', 'L99')):\n",
        "            return 'L'\n",
        "        # Check for sacral level\n",
        "        elif any(anlvl.startswith(x) for x in ('S01', 'S02', 'S03', 'S99')):\n",
        "            return 'S'\n",
        "    # Check if ASIA impairment scale is 'D'\n",
        "    elif row['AASAImDs'] == 'D':\n",
        "        return 'D'\n",
        "    # Return NaN for 'E' or 'U' or any other conditions\n",
        "    return np.nan\n",
        "\n",
        "# Applying the function to create the 'NLI_cat' column\n",
        "data['NLI_cat'] = data.apply(categorize_nli, axis=1)\n",
        "\n",
        "# Remove rows with undefined NLI_cat (NaNs)\n",
        "data.dropna(subset=['NLI_cat'], inplace=True)\n"
      ],
      "metadata": {
        "id": "Y9dn8a0UDx22"
      },
      "execution_count": 10,
      "outputs": []
    },
    {
      "cell_type": "code",
      "source": [
        "# Preview the first 5 rows of the updated DataFrame\n",
        "# NLI_cat exists\n",
        "print(data.head())"
      ],
      "metadata": {
        "colab": {
          "base_uri": "https://localhost:8080/"
        },
        "id": "jnsU07tKJ-Qz",
        "outputId": "0cb237ab-1cf7-4204-db64-79a171b3cdd8"
      },
      "execution_count": 13,
      "outputs": [
        {
          "output_type": "stream",
          "name": "stdout",
          "text": [
            "     UniID  AInjDt  AAdmDt  ARbAdmDt  ADisDt AInjAge  ARbAdDtM  ASDDAc2R  \\\n",
            "383    384    2003    2003    2003.0    2003  15-29y         1         0   \n",
            "523    524    2003    2003    2003.0    2003  15-29y         1         0   \n",
            "680    681    1992    1992    1992.0    1992  15-29y         1         0   \n",
            "696    697    1992    1992    1992.0    1993  30-44y         1         0   \n",
            "706    707    1993    1993    1993.0    1993  30-44y         1         0   \n",
            "\n",
            "     ASDDDurR  AI2ADays  ...  AFBdMgDs  AFBwMgDs  AFMBCWDs  AFMTltDs  \\\n",
            "383         0        17  ...         6         1         1         1   \n",
            "523         0        31  ...         6         6         6         6   \n",
            "680         0         1  ...         6         6         7         6   \n",
            "696         0        18  ...         1         1         1         1   \n",
            "706         0         6  ...         1         1         3         3   \n",
            "\n",
            "     AFMTShDs  AFLWWcDs  AFLModDs  AFLStrDs AFScorDs  NLI_cat  \n",
            "383         1         6         1         2     49.0        T  \n",
            "523         6         6         1         4     80.0        T  \n",
            "680         6         4         1         4     79.0        D  \n",
            "696         1         6         1         1     23.0        C  \n",
            "706         3         6         1         1     26.0        D  \n",
            "\n",
            "[5 rows x 418 columns]\n"
          ]
        }
      ]
    },
    {
      "cell_type": "code",
      "source": [
        "data.to_csv('updated_data.csv', index=False)"
      ],
      "metadata": {
        "id": "NoYm79sRKHCk"
      },
      "execution_count": 14,
      "outputs": []
    },
    {
      "cell_type": "code",
      "source": [
        "# Create Etiology Category Variable\n",
        "def categorize_etiology(etio):\n",
        "    if etio == 'SPORTS/RECREATION':\n",
        "        return 'SportEtiol'\n",
        "    elif etio == 'VEHICULAR':\n",
        "        return 'VehicleEtiol'\n",
        "    elif etio in ['Violence', 'FALLS/FLYING_OBJECTS', 'PEDESTRIAN', 'MEDICAL/SURGICAL COMPLICATION', 'OTHER', 'Unknown']:\n",
        "        return 'OtherEtiol'\n",
        "    else:\n",
        "        return np.nan\n",
        "\n",
        "data['Etiology_cat'] = data['RTrmEtio'].apply(categorize_etiology)\n"
      ],
      "metadata": {
        "colab": {
          "base_uri": "https://localhost:8080/",
          "height": 478
        },
        "id": "JSsyzS_XFTfP",
        "outputId": "6d6e629e-5647-4edd-e8d9-1bb6b91537c2"
      },
      "execution_count": null,
      "outputs": [
        {
          "output_type": "error",
          "ename": "KeyError",
          "evalue": "'RTrmEtio'",
          "traceback": [
            "\u001b[0;31m---------------------------------------------------------------------------\u001b[0m",
            "\u001b[0;31mKeyError\u001b[0m                                  Traceback (most recent call last)",
            "\u001b[0;32m/usr/local/lib/python3.10/dist-packages/pandas/core/indexes/base.py\u001b[0m in \u001b[0;36mget_loc\u001b[0;34m(self, key)\u001b[0m\n\u001b[1;32m   3652\u001b[0m         \u001b[0;32mtry\u001b[0m\u001b[0;34m:\u001b[0m\u001b[0;34m\u001b[0m\u001b[0;34m\u001b[0m\u001b[0m\n\u001b[0;32m-> 3653\u001b[0;31m             \u001b[0;32mreturn\u001b[0m \u001b[0mself\u001b[0m\u001b[0;34m.\u001b[0m\u001b[0m_engine\u001b[0m\u001b[0;34m.\u001b[0m\u001b[0mget_loc\u001b[0m\u001b[0;34m(\u001b[0m\u001b[0mcasted_key\u001b[0m\u001b[0;34m)\u001b[0m\u001b[0;34m\u001b[0m\u001b[0;34m\u001b[0m\u001b[0m\n\u001b[0m\u001b[1;32m   3654\u001b[0m         \u001b[0;32mexcept\u001b[0m \u001b[0mKeyError\u001b[0m \u001b[0;32mas\u001b[0m \u001b[0merr\u001b[0m\u001b[0;34m:\u001b[0m\u001b[0;34m\u001b[0m\u001b[0;34m\u001b[0m\u001b[0m\n",
            "\u001b[0;32m/usr/local/lib/python3.10/dist-packages/pandas/_libs/index.pyx\u001b[0m in \u001b[0;36mpandas._libs.index.IndexEngine.get_loc\u001b[0;34m()\u001b[0m\n",
            "\u001b[0;32m/usr/local/lib/python3.10/dist-packages/pandas/_libs/index.pyx\u001b[0m in \u001b[0;36mpandas._libs.index.IndexEngine.get_loc\u001b[0;34m()\u001b[0m\n",
            "\u001b[0;32mpandas/_libs/hashtable_class_helper.pxi\u001b[0m in \u001b[0;36mpandas._libs.hashtable.PyObjectHashTable.get_item\u001b[0;34m()\u001b[0m\n",
            "\u001b[0;32mpandas/_libs/hashtable_class_helper.pxi\u001b[0m in \u001b[0;36mpandas._libs.hashtable.PyObjectHashTable.get_item\u001b[0;34m()\u001b[0m\n",
            "\u001b[0;31mKeyError\u001b[0m: 'RTrmEtio'",
            "\nThe above exception was the direct cause of the following exception:\n",
            "\u001b[0;31mKeyError\u001b[0m                                  Traceback (most recent call last)",
            "\u001b[0;32m<ipython-input-20-4456fa39f08d>\u001b[0m in \u001b[0;36m<cell line: 12>\u001b[0;34m()\u001b[0m\n\u001b[1;32m     10\u001b[0m         \u001b[0;32mreturn\u001b[0m \u001b[0mnp\u001b[0m\u001b[0;34m.\u001b[0m\u001b[0mnan\u001b[0m\u001b[0;34m\u001b[0m\u001b[0;34m\u001b[0m\u001b[0m\n\u001b[1;32m     11\u001b[0m \u001b[0;34m\u001b[0m\u001b[0m\n\u001b[0;32m---> 12\u001b[0;31m \u001b[0mdata\u001b[0m\u001b[0;34m[\u001b[0m\u001b[0;34m'Etiology_cat'\u001b[0m\u001b[0;34m]\u001b[0m \u001b[0;34m=\u001b[0m \u001b[0mdata\u001b[0m\u001b[0;34m[\u001b[0m\u001b[0;34m'RTrmEtio'\u001b[0m\u001b[0;34m]\u001b[0m\u001b[0;34m.\u001b[0m\u001b[0mapply\u001b[0m\u001b[0;34m(\u001b[0m\u001b[0mcategorize_etiology\u001b[0m\u001b[0;34m)\u001b[0m\u001b[0;34m\u001b[0m\u001b[0;34m\u001b[0m\u001b[0m\n\u001b[0m",
            "\u001b[0;32m/usr/local/lib/python3.10/dist-packages/pandas/core/frame.py\u001b[0m in \u001b[0;36m__getitem__\u001b[0;34m(self, key)\u001b[0m\n\u001b[1;32m   3759\u001b[0m             \u001b[0;32mif\u001b[0m \u001b[0mself\u001b[0m\u001b[0;34m.\u001b[0m\u001b[0mcolumns\u001b[0m\u001b[0;34m.\u001b[0m\u001b[0mnlevels\u001b[0m \u001b[0;34m>\u001b[0m \u001b[0;36m1\u001b[0m\u001b[0;34m:\u001b[0m\u001b[0;34m\u001b[0m\u001b[0;34m\u001b[0m\u001b[0m\n\u001b[1;32m   3760\u001b[0m                 \u001b[0;32mreturn\u001b[0m \u001b[0mself\u001b[0m\u001b[0;34m.\u001b[0m\u001b[0m_getitem_multilevel\u001b[0m\u001b[0;34m(\u001b[0m\u001b[0mkey\u001b[0m\u001b[0;34m)\u001b[0m\u001b[0;34m\u001b[0m\u001b[0;34m\u001b[0m\u001b[0m\n\u001b[0;32m-> 3761\u001b[0;31m             \u001b[0mindexer\u001b[0m \u001b[0;34m=\u001b[0m \u001b[0mself\u001b[0m\u001b[0;34m.\u001b[0m\u001b[0mcolumns\u001b[0m\u001b[0;34m.\u001b[0m\u001b[0mget_loc\u001b[0m\u001b[0;34m(\u001b[0m\u001b[0mkey\u001b[0m\u001b[0;34m)\u001b[0m\u001b[0;34m\u001b[0m\u001b[0;34m\u001b[0m\u001b[0m\n\u001b[0m\u001b[1;32m   3762\u001b[0m             \u001b[0;32mif\u001b[0m \u001b[0mis_integer\u001b[0m\u001b[0;34m(\u001b[0m\u001b[0mindexer\u001b[0m\u001b[0;34m)\u001b[0m\u001b[0;34m:\u001b[0m\u001b[0;34m\u001b[0m\u001b[0;34m\u001b[0m\u001b[0m\n\u001b[1;32m   3763\u001b[0m                 \u001b[0mindexer\u001b[0m \u001b[0;34m=\u001b[0m \u001b[0;34m[\u001b[0m\u001b[0mindexer\u001b[0m\u001b[0;34m]\u001b[0m\u001b[0;34m\u001b[0m\u001b[0;34m\u001b[0m\u001b[0m\n",
            "\u001b[0;32m/usr/local/lib/python3.10/dist-packages/pandas/core/indexes/base.py\u001b[0m in \u001b[0;36mget_loc\u001b[0;34m(self, key)\u001b[0m\n\u001b[1;32m   3653\u001b[0m             \u001b[0;32mreturn\u001b[0m \u001b[0mself\u001b[0m\u001b[0;34m.\u001b[0m\u001b[0m_engine\u001b[0m\u001b[0;34m.\u001b[0m\u001b[0mget_loc\u001b[0m\u001b[0;34m(\u001b[0m\u001b[0mcasted_key\u001b[0m\u001b[0;34m)\u001b[0m\u001b[0;34m\u001b[0m\u001b[0;34m\u001b[0m\u001b[0m\n\u001b[1;32m   3654\u001b[0m         \u001b[0;32mexcept\u001b[0m \u001b[0mKeyError\u001b[0m \u001b[0;32mas\u001b[0m \u001b[0merr\u001b[0m\u001b[0;34m:\u001b[0m\u001b[0;34m\u001b[0m\u001b[0;34m\u001b[0m\u001b[0m\n\u001b[0;32m-> 3655\u001b[0;31m             \u001b[0;32mraise\u001b[0m \u001b[0mKeyError\u001b[0m\u001b[0;34m(\u001b[0m\u001b[0mkey\u001b[0m\u001b[0;34m)\u001b[0m \u001b[0;32mfrom\u001b[0m \u001b[0merr\u001b[0m\u001b[0;34m\u001b[0m\u001b[0;34m\u001b[0m\u001b[0m\n\u001b[0m\u001b[1;32m   3656\u001b[0m         \u001b[0;32mexcept\u001b[0m \u001b[0mTypeError\u001b[0m\u001b[0;34m:\u001b[0m\u001b[0;34m\u001b[0m\u001b[0;34m\u001b[0m\u001b[0m\n\u001b[1;32m   3657\u001b[0m             \u001b[0;31m# If we have a listlike key, _check_indexing_error will raise\u001b[0m\u001b[0;34m\u001b[0m\u001b[0;34m\u001b[0m\u001b[0m\n",
            "\u001b[0;31mKeyError\u001b[0m: 'RTrmEtio'"
          ]
        }
      ]
    },
    {
      "cell_type": "code",
      "source": [
        "# Analyze Stature Data\n",
        "\n",
        "# 999 is a placeholder and should be excluded\n",
        "filtered_data = data[data['AHghtRhb'] != 999]\n",
        "\n",
        "# Recalculate descriptive statistics\n",
        "height_descriptives = filtered_data['AHghtRhb'].describe()\n",
        "print(height_descriptives)\n",
        "\n",
        "# Calculate quintiles with cleaned data\n",
        "filtered_data['QuinHgt'] = pd.qcut(filtered_data['AHghtRhb'], 5, labels=[1, 2, 3, 4, 5], duplicates='drop')\n",
        "\n",
        "# Check new quintile assignments\n",
        "print(filtered_data['QuinHgt'].value_counts())\n",
        "\n",
        "# Group by 'NLI_cat' and analyze height\n",
        "grouped_nli = filtered_data.groupby('NLI_cat')['AHghtRhb'].agg(['mean', 'median', 'std'])\n",
        "print(grouped_nli)\n",
        "\n"
      ],
      "metadata": {
        "colab": {
          "base_uri": "https://localhost:8080/"
        },
        "id": "pdH7BgjOGq3w",
        "outputId": "e8f4306f-96d8-4960-aca5-d28726aea4e1"
      },
      "execution_count": 11,
      "outputs": [
        {
          "output_type": "stream",
          "name": "stdout",
          "text": [
            "count    6589.000000\n",
            "mean       69.133859\n",
            "std         3.953585\n",
            "min        34.000000\n",
            "25%        67.000000\n",
            "50%        70.000000\n",
            "75%        72.000000\n",
            "max        83.000000\n",
            "Name: AHghtRhb, dtype: float64\n",
            "QuinHgt\n",
            "1    1609\n",
            "4    1402\n",
            "3    1315\n",
            "5    1222\n",
            "2    1041\n",
            "Name: count, dtype: int64\n",
            "              mean  median       std\n",
            "NLI_cat                             \n",
            "C        69.318377    70.0  4.083222\n",
            "D        69.014475    70.0  3.909109\n",
            "L        68.817073    69.0  3.637649\n",
            "S        68.500000    68.5  7.778175\n",
            "T        69.138030    69.0  3.904427\n"
          ]
        },
        {
          "output_type": "stream",
          "name": "stderr",
          "text": [
            "<ipython-input-11-3f210d61b949>:11: SettingWithCopyWarning: \n",
            "A value is trying to be set on a copy of a slice from a DataFrame.\n",
            "Try using .loc[row_indexer,col_indexer] = value instead\n",
            "\n",
            "See the caveats in the documentation: https://pandas.pydata.org/pandas-docs/stable/user_guide/indexing.html#returning-a-view-versus-a-copy\n",
            "  filtered_data['QuinHgt'] = pd.qcut(filtered_data['AHghtRhb'], 5, labels=[1, 2, 3, 4, 5], duplicates='drop')\n"
          ]
        }
      ]
    },
    {
      "cell_type": "code",
      "source": [
        "# Calculate Percentiles\n",
        "percentiles = {\n",
        "    95: np.percentile(data['AHghtRhb'], 95),\n",
        "    90: np.percentile(data['AHghtRhb'], 90)\n",
        "}\n",
        "\n",
        "# Filter data based on these thresholds\n",
        "above_95 = data[data['AHghtRhb'] >= percentiles[95]]\n",
        "above_90 = data[data['AHghtRhb'] >= percentiles[90]]\n",
        "\n",
        "print(above_95.head)\n",
        "print(above_90.head)\n"
      ],
      "metadata": {
        "colab": {
          "base_uri": "https://localhost:8080/"
        },
        "id": "nhs_7S96GuZ3",
        "outputId": "ab901558-27f9-413a-86d4-8ffdb0ebff91"
      },
      "execution_count": 12,
      "outputs": [
        {
          "output_type": "stream",
          "name": "stdout",
          "text": [
            "<bound method NDFrame.head of        UniID  AInjDt  AAdmDt  ARbAdmDt  ADisDt AInjAge  ARbAdDtM  ASDDAc2R  \\\n",
            "383      384    2003    2003    2003.0    2003  15-29y         1         0   \n",
            "523      524    2003    2003    2003.0    2003  15-29y         1         0   \n",
            "680      681    1992    1992    1992.0    1992  15-29y         1         0   \n",
            "696      697    1992    1992    1992.0    1993  30-44y         1         0   \n",
            "706      707    1993    1993    1993.0    1993  30-44y         1         0   \n",
            "...      ...     ...     ...       ...     ...     ...       ...       ...   \n",
            "31637  31638    2006    2006    2006.0    2006  30-44y         1       888   \n",
            "31638  31639    2006    2006    2006.0    2006  30-44y         1       888   \n",
            "31639  31640    2006    2006    2006.0    2006  15-29y         1         0   \n",
            "31640  31641    2006    2006    2006.0    2006  60-74y         1         0   \n",
            "31641  31642    2006    2006    2006.0    2006  30-44y         1       888   \n",
            "\n",
            "       ASDDDurR  AI2ADays  ...  AFBdMgDs  AFBwMgDs  AFMBCWDs  AFMTltDs  \\\n",
            "383           0        17  ...         6         1         1         1   \n",
            "523           0        31  ...         6         6         6         6   \n",
            "680           0         1  ...         6         6         7         6   \n",
            "696           0        18  ...         1         1         1         1   \n",
            "706           0         6  ...         1         1         3         3   \n",
            "...         ...       ...  ...       ...       ...       ...       ...   \n",
            "31637         0        19  ...         5         6         5         3   \n",
            "31638         0         4  ...         5         6         5         4   \n",
            "31639         0         1  ...         6         6         6         6   \n",
            "31640         0         1  ...         6         6         5         5   \n",
            "31641         0        38  ...         6         6         5         4   \n",
            "\n",
            "       AFMTShDs  AFLWWcDs  AFLModDs  AFLStrDs AFScorDs  NLI_cat  \n",
            "383           1         6         1         2     49.0        T  \n",
            "523           6         6         1         4     80.0        T  \n",
            "680           6         4         1         4     79.0        D  \n",
            "696           1         6         1         1     23.0        C  \n",
            "706           3         6         1         1     26.0        D  \n",
            "...         ...       ...       ...       ...      ...      ...  \n",
            "31637         3         6         1         1     57.0        D  \n",
            "31638         4         6         1         1     64.0        C  \n",
            "31639         6         6         1         1     76.0        L  \n",
            "31640         5         6         1         1     50.0        D  \n",
            "31641         4         6         1         1     67.0        T  \n",
            "\n",
            "[8752 rows x 418 columns]>\n",
            "<bound method NDFrame.head of        UniID  AInjDt  AAdmDt  ARbAdmDt  ADisDt AInjAge  ARbAdDtM  ASDDAc2R  \\\n",
            "383      384    2003    2003    2003.0    2003  15-29y         1         0   \n",
            "523      524    2003    2003    2003.0    2003  15-29y         1         0   \n",
            "680      681    1992    1992    1992.0    1992  15-29y         1         0   \n",
            "696      697    1992    1992    1992.0    1993  30-44y         1         0   \n",
            "706      707    1993    1993    1993.0    1993  30-44y         1         0   \n",
            "...      ...     ...     ...       ...     ...     ...       ...       ...   \n",
            "31637  31638    2006    2006    2006.0    2006  30-44y         1       888   \n",
            "31638  31639    2006    2006    2006.0    2006  30-44y         1       888   \n",
            "31639  31640    2006    2006    2006.0    2006  15-29y         1         0   \n",
            "31640  31641    2006    2006    2006.0    2006  60-74y         1         0   \n",
            "31641  31642    2006    2006    2006.0    2006  30-44y         1       888   \n",
            "\n",
            "       ASDDDurR  AI2ADays  ...  AFBdMgDs  AFBwMgDs  AFMBCWDs  AFMTltDs  \\\n",
            "383           0        17  ...         6         1         1         1   \n",
            "523           0        31  ...         6         6         6         6   \n",
            "680           0         1  ...         6         6         7         6   \n",
            "696           0        18  ...         1         1         1         1   \n",
            "706           0         6  ...         1         1         3         3   \n",
            "...         ...       ...  ...       ...       ...       ...       ...   \n",
            "31637         0        19  ...         5         6         5         3   \n",
            "31638         0         4  ...         5         6         5         4   \n",
            "31639         0         1  ...         6         6         6         6   \n",
            "31640         0         1  ...         6         6         5         5   \n",
            "31641         0        38  ...         6         6         5         4   \n",
            "\n",
            "       AFMTShDs  AFLWWcDs  AFLModDs  AFLStrDs AFScorDs  NLI_cat  \n",
            "383           1         6         1         2     49.0        T  \n",
            "523           6         6         1         4     80.0        T  \n",
            "680           6         4         1         4     79.0        D  \n",
            "696           1         6         1         1     23.0        C  \n",
            "706           3         6         1         1     26.0        D  \n",
            "...         ...       ...       ...       ...      ...      ...  \n",
            "31637         3         6         1         1     57.0        D  \n",
            "31638         4         6         1         1     64.0        C  \n",
            "31639         6         6         1         1     76.0        L  \n",
            "31640         5         6         1         1     50.0        D  \n",
            "31641         4         6         1         1     67.0        T  \n",
            "\n",
            "[8752 rows x 418 columns]>\n"
          ]
        }
      ]
    },
    {
      "cell_type": "code",
      "source": [
        "# Detailed Analysis by Etiology Category\n",
        "sports_data = data[data['Etiology_cat'] == 'SportEtiol']\n",
        "vehicular_data = data[data['Etiology_cat'] == 'VehicleEtiol']\n",
        "\n",
        "# Calculate descriptive statistics for each group\n",
        "sports_descriptives = sports_data.groupby('NLI_cat')['AHghtRhb'].agg(['mean', 'median', 'std'])\n",
        "vehicular_descriptives = vehicular_data.groupby('NLI_cat')['AHghtRhb'].agg(['mean', 'median', 'std'])\n",
        "\n",
        "print(sports_descriptives)\n",
        "print(vehicular_descriptives)\n"
      ],
      "metadata": {
        "colab": {
          "base_uri": "https://localhost:8080/",
          "height": 478
        },
        "id": "KRhWfnhCG2ln",
        "outputId": "1d48fa86-3d71-4118-ff04-c5aa6074755f"
      },
      "execution_count": null,
      "outputs": [
        {
          "output_type": "error",
          "ename": "KeyError",
          "evalue": "'Etiology_cat'",
          "traceback": [
            "\u001b[0;31m---------------------------------------------------------------------------\u001b[0m",
            "\u001b[0;31mKeyError\u001b[0m                                  Traceback (most recent call last)",
            "\u001b[0;32m/usr/local/lib/python3.10/dist-packages/pandas/core/indexes/base.py\u001b[0m in \u001b[0;36mget_loc\u001b[0;34m(self, key)\u001b[0m\n\u001b[1;32m   3652\u001b[0m         \u001b[0;32mtry\u001b[0m\u001b[0;34m:\u001b[0m\u001b[0;34m\u001b[0m\u001b[0;34m\u001b[0m\u001b[0m\n\u001b[0;32m-> 3653\u001b[0;31m             \u001b[0;32mreturn\u001b[0m \u001b[0mself\u001b[0m\u001b[0;34m.\u001b[0m\u001b[0m_engine\u001b[0m\u001b[0;34m.\u001b[0m\u001b[0mget_loc\u001b[0m\u001b[0;34m(\u001b[0m\u001b[0mcasted_key\u001b[0m\u001b[0;34m)\u001b[0m\u001b[0;34m\u001b[0m\u001b[0;34m\u001b[0m\u001b[0m\n\u001b[0m\u001b[1;32m   3654\u001b[0m         \u001b[0;32mexcept\u001b[0m \u001b[0mKeyError\u001b[0m \u001b[0;32mas\u001b[0m \u001b[0merr\u001b[0m\u001b[0;34m:\u001b[0m\u001b[0;34m\u001b[0m\u001b[0;34m\u001b[0m\u001b[0m\n",
            "\u001b[0;32m/usr/local/lib/python3.10/dist-packages/pandas/_libs/index.pyx\u001b[0m in \u001b[0;36mpandas._libs.index.IndexEngine.get_loc\u001b[0;34m()\u001b[0m\n",
            "\u001b[0;32m/usr/local/lib/python3.10/dist-packages/pandas/_libs/index.pyx\u001b[0m in \u001b[0;36mpandas._libs.index.IndexEngine.get_loc\u001b[0;34m()\u001b[0m\n",
            "\u001b[0;32mpandas/_libs/hashtable_class_helper.pxi\u001b[0m in \u001b[0;36mpandas._libs.hashtable.PyObjectHashTable.get_item\u001b[0;34m()\u001b[0m\n",
            "\u001b[0;32mpandas/_libs/hashtable_class_helper.pxi\u001b[0m in \u001b[0;36mpandas._libs.hashtable.PyObjectHashTable.get_item\u001b[0;34m()\u001b[0m\n",
            "\u001b[0;31mKeyError\u001b[0m: 'Etiology_cat'",
            "\nThe above exception was the direct cause of the following exception:\n",
            "\u001b[0;31mKeyError\u001b[0m                                  Traceback (most recent call last)",
            "\u001b[0;32m<ipython-input-31-1f3bbfe69d0a>\u001b[0m in \u001b[0;36m<cell line: 2>\u001b[0;34m()\u001b[0m\n\u001b[1;32m      1\u001b[0m \u001b[0;31m# Detailed Analysis by Etiology Category\u001b[0m\u001b[0;34m\u001b[0m\u001b[0;34m\u001b[0m\u001b[0m\n\u001b[0;32m----> 2\u001b[0;31m \u001b[0msports_data\u001b[0m \u001b[0;34m=\u001b[0m \u001b[0mdata\u001b[0m\u001b[0;34m[\u001b[0m\u001b[0mdata\u001b[0m\u001b[0;34m[\u001b[0m\u001b[0;34m'Etiology_cat'\u001b[0m\u001b[0;34m]\u001b[0m \u001b[0;34m==\u001b[0m \u001b[0;34m'SportEtiol'\u001b[0m\u001b[0;34m]\u001b[0m\u001b[0;34m\u001b[0m\u001b[0;34m\u001b[0m\u001b[0m\n\u001b[0m\u001b[1;32m      3\u001b[0m \u001b[0mvehicular_data\u001b[0m \u001b[0;34m=\u001b[0m \u001b[0mdata\u001b[0m\u001b[0;34m[\u001b[0m\u001b[0mdata\u001b[0m\u001b[0;34m[\u001b[0m\u001b[0;34m'Etiology_cat'\u001b[0m\u001b[0;34m]\u001b[0m \u001b[0;34m==\u001b[0m \u001b[0;34m'VehicleEtiol'\u001b[0m\u001b[0;34m]\u001b[0m\u001b[0;34m\u001b[0m\u001b[0;34m\u001b[0m\u001b[0m\n\u001b[1;32m      4\u001b[0m \u001b[0;34m\u001b[0m\u001b[0m\n\u001b[1;32m      5\u001b[0m \u001b[0;31m# Calculate descriptive statistics for each group\u001b[0m\u001b[0;34m\u001b[0m\u001b[0;34m\u001b[0m\u001b[0m\n",
            "\u001b[0;32m/usr/local/lib/python3.10/dist-packages/pandas/core/frame.py\u001b[0m in \u001b[0;36m__getitem__\u001b[0;34m(self, key)\u001b[0m\n\u001b[1;32m   3759\u001b[0m             \u001b[0;32mif\u001b[0m \u001b[0mself\u001b[0m\u001b[0;34m.\u001b[0m\u001b[0mcolumns\u001b[0m\u001b[0;34m.\u001b[0m\u001b[0mnlevels\u001b[0m \u001b[0;34m>\u001b[0m \u001b[0;36m1\u001b[0m\u001b[0;34m:\u001b[0m\u001b[0;34m\u001b[0m\u001b[0;34m\u001b[0m\u001b[0m\n\u001b[1;32m   3760\u001b[0m                 \u001b[0;32mreturn\u001b[0m \u001b[0mself\u001b[0m\u001b[0;34m.\u001b[0m\u001b[0m_getitem_multilevel\u001b[0m\u001b[0;34m(\u001b[0m\u001b[0mkey\u001b[0m\u001b[0;34m)\u001b[0m\u001b[0;34m\u001b[0m\u001b[0;34m\u001b[0m\u001b[0m\n\u001b[0;32m-> 3761\u001b[0;31m             \u001b[0mindexer\u001b[0m \u001b[0;34m=\u001b[0m \u001b[0mself\u001b[0m\u001b[0;34m.\u001b[0m\u001b[0mcolumns\u001b[0m\u001b[0;34m.\u001b[0m\u001b[0mget_loc\u001b[0m\u001b[0;34m(\u001b[0m\u001b[0mkey\u001b[0m\u001b[0;34m)\u001b[0m\u001b[0;34m\u001b[0m\u001b[0;34m\u001b[0m\u001b[0m\n\u001b[0m\u001b[1;32m   3762\u001b[0m             \u001b[0;32mif\u001b[0m \u001b[0mis_integer\u001b[0m\u001b[0;34m(\u001b[0m\u001b[0mindexer\u001b[0m\u001b[0;34m)\u001b[0m\u001b[0;34m:\u001b[0m\u001b[0;34m\u001b[0m\u001b[0;34m\u001b[0m\u001b[0m\n\u001b[1;32m   3763\u001b[0m                 \u001b[0mindexer\u001b[0m \u001b[0;34m=\u001b[0m \u001b[0;34m[\u001b[0m\u001b[0mindexer\u001b[0m\u001b[0;34m]\u001b[0m\u001b[0;34m\u001b[0m\u001b[0;34m\u001b[0m\u001b[0m\n",
            "\u001b[0;32m/usr/local/lib/python3.10/dist-packages/pandas/core/indexes/base.py\u001b[0m in \u001b[0;36mget_loc\u001b[0;34m(self, key)\u001b[0m\n\u001b[1;32m   3653\u001b[0m             \u001b[0;32mreturn\u001b[0m \u001b[0mself\u001b[0m\u001b[0;34m.\u001b[0m\u001b[0m_engine\u001b[0m\u001b[0;34m.\u001b[0m\u001b[0mget_loc\u001b[0m\u001b[0;34m(\u001b[0m\u001b[0mcasted_key\u001b[0m\u001b[0;34m)\u001b[0m\u001b[0;34m\u001b[0m\u001b[0;34m\u001b[0m\u001b[0m\n\u001b[1;32m   3654\u001b[0m         \u001b[0;32mexcept\u001b[0m \u001b[0mKeyError\u001b[0m \u001b[0;32mas\u001b[0m \u001b[0merr\u001b[0m\u001b[0;34m:\u001b[0m\u001b[0;34m\u001b[0m\u001b[0;34m\u001b[0m\u001b[0m\n\u001b[0;32m-> 3655\u001b[0;31m             \u001b[0;32mraise\u001b[0m \u001b[0mKeyError\u001b[0m\u001b[0;34m(\u001b[0m\u001b[0mkey\u001b[0m\u001b[0;34m)\u001b[0m \u001b[0;32mfrom\u001b[0m \u001b[0merr\u001b[0m\u001b[0;34m\u001b[0m\u001b[0;34m\u001b[0m\u001b[0m\n\u001b[0m\u001b[1;32m   3656\u001b[0m         \u001b[0;32mexcept\u001b[0m \u001b[0mTypeError\u001b[0m\u001b[0;34m:\u001b[0m\u001b[0;34m\u001b[0m\u001b[0;34m\u001b[0m\u001b[0m\n\u001b[1;32m   3657\u001b[0m             \u001b[0;31m# If we have a listlike key, _check_indexing_error will raise\u001b[0m\u001b[0;34m\u001b[0m\u001b[0;34m\u001b[0m\u001b[0m\n",
            "\u001b[0;31mKeyError\u001b[0m: 'Etiology_cat'"
          ]
        }
      ]
    },
    {
      "cell_type": "code",
      "source": [],
      "metadata": {
        "id": "wb2zTRS0G8KK"
      },
      "execution_count": null,
      "outputs": []
    }
  ]
}